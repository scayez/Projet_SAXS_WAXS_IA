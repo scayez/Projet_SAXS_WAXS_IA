{
 "cells": [
  {
   "cell_type": "markdown",
   "id": "2dbc2951-22ee-40a0-86ca-fe1de5b038b3",
   "metadata": {},
   "source": [
    "# Deuxième test de créatiopn de fichiers xyz mais avec des boucles\n",
    "\n",
    "## Rolland Tristan 13/06/24\n",
    "\n",
    "**Contenu :**\n",
    "\n",
    "- Première case : Initialisation\n",
    "-\n"
   ]
  },
  {
   "cell_type": "code",
   "execution_count": 16,
   "id": "e8678e68-b369-4b5f-bbd9-3c48bcf47c2a",
   "metadata": {},
   "outputs": [
    {
     "ename": "ModuleNotFoundError",
     "evalue": "No module named 'pyNanoMatBuilder'",
     "output_type": "error",
     "traceback": [
      "\u001b[1;31m---------------------------------------------------------------------------\u001b[0m",
      "\u001b[1;31mModuleNotFoundError\u001b[0m                       Traceback (most recent call last)",
      "Cell \u001b[1;32mIn[16], line 16\u001b[0m\n\u001b[0;32m     12\u001b[0m \u001b[38;5;28;01mfrom\u001b[39;00m \u001b[38;5;21;01mase\u001b[39;00m\u001b[38;5;21;01m.\u001b[39;00m\u001b[38;5;21;01mio\u001b[39;00m \u001b[38;5;28;01mimport\u001b[39;00m write\n\u001b[0;32m     15\u001b[0m \u001b[38;5;28;01mfrom\u001b[39;00m \u001b[38;5;21;01mase\u001b[39;00m \u001b[38;5;28;01mimport\u001b[39;00m Atoms\n\u001b[1;32m---> 16\u001b[0m \u001b[38;5;28;01mimport\u001b[39;00m \u001b[38;5;21;01mpyNanoMatBuilder\u001b[39;00m\u001b[38;5;21;01m.\u001b[39;00m\u001b[38;5;21;01mutils\u001b[39;00m \u001b[38;5;28;01mas\u001b[39;00m \u001b[38;5;21;01mpNMBu\u001b[39;00m\n\u001b[0;32m     19\u001b[0m \u001b[38;5;28;01mfrom\u001b[39;00m \u001b[38;5;21;01mpyNanoMatBuilder\u001b[39;00m \u001b[38;5;28;01mimport\u001b[39;00m crystalNPs \u001b[38;5;28;01mas\u001b[39;00m cyNP\n\u001b[0;32m     20\u001b[0m \u001b[38;5;28;01mfrom\u001b[39;00m \u001b[38;5;21;01mpyNanoMatBuilder\u001b[39;00m \u001b[38;5;28;01mimport\u001b[39;00m platonicNPs \u001b[38;5;28;01mas\u001b[39;00m pNP\n",
      "\u001b[1;31mModuleNotFoundError\u001b[0m: No module named 'pyNanoMatBuilder'"
     ]
    }
   ],
   "source": [
    "#Introduction : importation des bilbliothèques nécessaires#\n",
    "\n",
    "import numpy as np\n",
    "import matplotlib.pyplot as plt\n",
    "\n",
    "\n",
    "import os\n",
    "import sys\n",
    "\n",
    "import numpy as np\n",
    "import ase\n",
    "from ase.io import write\n",
    "\n",
    "\n",
    "from ase import Atoms\n",
    "import pyNanoMatBuilder.utils as pNMBu\n",
    "\n",
    "\n",
    "from pyNanoMatBuilder import crystalNPs as cyNP\n",
    "from pyNanoMatBuilder import platonicNPs as pNP\n",
    "from pyNanoMatBuilder import archimedeanNPs as aNP\n"
   ]
  },
  {
   "cell_type": "code",
   "execution_count": 17,
   "id": "cd9bc537-bc9a-40fc-95eb-35796dece3cf",
   "metadata": {},
   "outputs": [
    {
     "ename": "ModuleNotFoundError",
     "evalue": "No module named 'pyNanoMatBuilder'",
     "output_type": "error",
     "traceback": [
      "\u001b[1;31m---------------------------------------------------------------------------\u001b[0m",
      "\u001b[1;31mModuleNotFoundError\u001b[0m                       Traceback (most recent call last)",
      "Cell \u001b[1;32mIn[17], line 3\u001b[0m\n\u001b[0;32m      1\u001b[0m \u001b[38;5;66;03m#Création première boucle pour creer des fichier xyz de sphère de Au avec différents diamètres\u001b[39;00m\n\u001b[1;32m----> 3\u001b[0m \u001b[38;5;28;01mfrom\u001b[39;00m \u001b[38;5;21;01mpyNanoMatBuilder\u001b[39;00m \u001b[38;5;28;01mimport\u001b[39;00m crystalNPs \u001b[38;5;28;01mas\u001b[39;00m cyNP\n\u001b[0;32m      4\u001b[0m importlib\u001b[38;5;241m.\u001b[39mreload(cyNP)\n\u001b[0;32m      5\u001b[0m importlib\u001b[38;5;241m.\u001b[39mreload(pNMBu)\n",
      "\u001b[1;31mModuleNotFoundError\u001b[0m: No module named 'pyNanoMatBuilder'"
     ]
    }
   ],
   "source": [
    "#Création première boucle pour creer des fichier xyz de sphère de Au avec différents diamètres\n",
    "\n",
    "from pyNanoMatBuilder import crystalNPs as cyNP\n",
    "importlib.reload(cyNP)\n",
    "importlib.reload(pNMBu)\n",
    "\n",
    "\n",
    "N = np.arange(0,0.3,0.1) \n",
    "for i in N: \n",
    "\n",
    " \n",
    "    AuNP = cyNP.Crystal(\"Au\",size=[N],thresholdCoreSurface=1,skipSymmetryAnalyzis=True)\n",
    "    \n",
    "    write(\"stage/test_boucle/les_fichiers_accompagnant_les_xyz/sphere_AuNP_%d\"%N+\"nm__cif.cif\", AuNP.cif)\n",
    "    write(\"stage/test_boucle/les_fichiers_accompagnant_les_xyz/sphere_AuNP_%d\"%N+\"nm__sc.cif\", AuNP.sc)\n",
    "    write(\"stage/test_boucle/fichiers_xyz/sphere_AuNP_%d\"%N+\"nm.xyz\", AuNP.NP)\n",
    "    write(\"stage/test_boucle/les_fichiers_accompagnant_les_xyz/sphere_AuNP_%d\"%N+\"nm__CoreSurface.xyz\", AuNP.NPcs)\n",
    "    "
   ]
  },
  {
   "cell_type": "code",
   "execution_count": null,
   "id": "42105a85-3597-4161-b44b-d0314fca7706",
   "metadata": {},
   "outputs": [],
   "source": []
  }
 ],
 "metadata": {
  "kernelspec": {
   "display_name": "Python 3 (ipykernel)",
   "language": "python",
   "name": "python3"
  },
  "language_info": {
   "codemirror_mode": {
    "name": "ipython",
    "version": 3
   },
   "file_extension": ".py",
   "mimetype": "text/x-python",
   "name": "python",
   "nbconvert_exporter": "python",
   "pygments_lexer": "ipython3",
   "version": "3.11.9"
  }
 },
 "nbformat": 4,
 "nbformat_minor": 5
}
