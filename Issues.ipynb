{
 "cells": [
  {
   "cell_type": "markdown",
   "id": "54483cd9-8627-4534-892c-842581b78ccf",
   "metadata": {},
   "source": [
    "# Issues pyNanoMatBuilder affichage"
   ]
  },
  {
   "cell_type": "markdown",
   "id": "7a79aac9-889e-413f-9ea9-5a8346c056b8",
   "metadata": {},
   "source": [
    "### I) Lignes en trop "
   ]
  },
  {
   "cell_type": "markdown",
   "id": "b7f1e176-1b8c-4f6d-a322-410e8e7dff77",
   "metadata": {},
   "source": [
    "Avec noOutput=True , pour toutes les classes, il reste deux lignes: \n",
    "- Moments of inertia\n",
    "- Core/Surface analyzis\n",
    "\n",
    "Problématique en cas d'utilisation de grandes boucles."
   ]
  },
  {
   "cell_type": "markdown",
   "id": "e3f07a61-b350-4d9c-ba17-c9654666ad66",
   "metadata": {},
   "source": [
    "Dans le cas du \"truncated_cube\" de la classe archimedean, on a en plus :\n",
    "- removing"
   ]
  },
  {
   "cell_type": "markdown",
   "id": "bbeb09fd-53f2-4449-893c-55c3b0b92f9b",
   "metadata": {},
   "source": [
    "### II) Fenetres ase View"
   ]
  },
  {
   "cell_type": "markdown",
   "id": "07b6b866-2de2-407a-825a-38a38c589db6",
   "metadata": {},
   "source": [
    "Avec aseView=False, pour :\n",
    "\n",
    "- classe Other\n",
    "- classe platonic (cube fcc et le cube bcc)\n",
    "- classe archimedean (truncated cube et le truncated octahedron)\n",
    "- classe johnson (trigonal_bipyramid).\n",
    "\n",
    "Les fenêtres aseView s'ouvrent quand même."
   ]
  }
 ],
 "metadata": {
  "kernelspec": {
   "display_name": "Python 3 (ipykernel)",
   "language": "python",
   "name": "python3"
  },
  "language_info": {
   "codemirror_mode": {
    "name": "ipython",
    "version": 3
   },
   "file_extension": ".py",
   "mimetype": "text/x-python",
   "name": "python",
   "nbconvert_exporter": "python",
   "pygments_lexer": "ipython3",
   "version": "3.11.9"
  }
 },
 "nbformat": 4,
 "nbformat_minor": 5
}
