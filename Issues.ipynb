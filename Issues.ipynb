{
 "cells": [
  {
   "cell_type": "markdown",
   "id": "54483cd9-8627-4534-892c-842581b78ccf",
   "metadata": {},
   "source": [
    "# Issues pyNanoMatBuilder affichage"
   ]
  },
  {
   "cell_type": "markdown",
   "id": "7a79aac9-889e-413f-9ea9-5a8346c056b8",
   "metadata": {},
   "source": [
    "### I) Lignes en trop "
   ]
  },
  {
   "cell_type": "markdown",
   "id": "b7f1e176-1b8c-4f6d-a322-410e8e7dff77",
   "metadata": {},
   "source": [
    "Avec noOutput=True , pour toutes les classes, il reste deux lignes: \n",
    "- Moments of inertia\n",
    "- Core/Surface analyzis\n",
    "\n",
    "Problématique en cas d'utilisation de grandes boucles."
   ]
  },
  {
   "cell_type": "markdown",
   "id": "e3f07a61-b350-4d9c-ba17-c9654666ad66",
   "metadata": {},
   "source": [
    "Dans le cas du \"truncated_cube\" de la classe archimedean, on a en plus :\n",
    "- removing"
   ]
  },
  {
   "cell_type": "markdown",
   "id": "bbeb09fd-53f2-4449-893c-55c3b0b92f9b",
   "metadata": {},
   "source": [
    "### II) Fenetres ase View"
   ]
  },
  {
   "cell_type": "markdown",
   "id": "07b6b866-2de2-407a-825a-38a38c589db6",
   "metadata": {},
   "source": [
    "Avec aseView=False, pour :\n",
    "\n",
    "- classe Other\n",
    "- classe platonic (cube fcc et le cube bcc)\n",
    "- classe archimedean (truncated cube et le truncated octahedron)\n",
    "- classe johnson (trigonal_bipyramid).\n",
    "\n",
    "Les fenêtres aseView s'ouvrent quand même."
   ]
  },
  {
   "cell_type": "markdown",
   "id": "b46cb66c-d0b5-4095-a68d-90ca0062bf54",
   "metadata": {},
   "source": [
    "### III) Fonction radiusCircumscribedSphere"
   ]
  },
  {
   "cell_type": "markdown",
   "id": "0a5556c0-1813-418d-b131-f87d749c939a",
   "metadata": {},
   "source": [
    "Absence de la fonction radiusCircumscribedSphere pour certaines formes:\n",
    "\n",
    "- Trigonal platelet\n",
    "- Trigonal bipyramid\n",
    "- Pentagonal bipyramid\n",
    "- Rhombic dodecahedron\n",
    "- Dihedral rhombic dodecahedron\n",
    "  \n",
    "\n",
    "Même si ce n'a pas forcément de sens physique, nous en avons besoin pour la base de données."
   ]
  },
  {
   "cell_type": "markdown",
   "id": "3cd8177c-c3b6-42b2-b2b2-8102a003ffa5",
   "metadata": {},
   "source": [
    "### IV) Fonction nAtoms"
   ]
  },
  {
   "cell_type": "markdown",
   "id": "b3e4dca5-fbcc-414c-a618-73f60c583e39",
   "metadata": {},
   "source": [
    "La fonction nAtoms renvoie 0 pour certaines formes :\n",
    "\n",
    "- Trigonal platelet\n",
    "- Trigonal bipyramid\n",
    "- Truncated tetrahedron\n",
    "- Truncated octahedron\n",
    "- Truncated cube\n",
    "- Tetrahedron (que si le nombre de couche = 1)"
   ]
  },
  {
   "cell_type": "markdown",
   "id": "5db0ee4c-e1a5-4531-8128-8de77909f8f2",
   "metadata": {},
   "source": [
    "### V) Lecture fichier cif"
   ]
  },
  {
   "cell_type": "markdown",
   "id": "49136177-71e0-43f1-a082-034a0ac00e8e",
   "metadata": {},
   "source": [
    "La lecture des fichiers cif déjà présent marche bien. Néanmoins, il manque les fichiers cif de certaines espèces chimiques dont nous avons besoin. \n",
    "Voici la liste des espèces chimique que nous utilisons :\n",
    "\n",
    "Ag\tAl\tAu\tCo\tCr Cu Fe Mn\tMo\tNi\tPb\tPd\tPt\tRu\tSb\tSi\tTi\t\n"
   ]
  },
  {
   "cell_type": "code",
   "execution_count": null,
   "id": "310af9dd-61cf-4e89-8371-35486ae71283",
   "metadata": {},
   "outputs": [],
   "source": []
  }
 ],
 "metadata": {
  "kernelspec": {
   "display_name": "Python 3 (ipykernel)",
   "language": "python",
   "name": "python3"
  },
  "language_info": {
   "codemirror_mode": {
    "name": "ipython",
    "version": 3
   },
   "file_extension": ".py",
   "mimetype": "text/x-python",
   "name": "python",
   "nbconvert_exporter": "python",
   "pygments_lexer": "ipython3",
   "version": "3.11.9"
  }
 },
 "nbformat": 4,
 "nbformat_minor": 5
}
