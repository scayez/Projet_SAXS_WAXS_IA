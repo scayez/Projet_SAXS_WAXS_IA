{
 "cells": [
  {
   "cell_type": "markdown",
   "id": "54483cd9-8627-4534-892c-842581b78ccf",
   "metadata": {},
   "source": [
    "# Code relevant tous les problèmes que j'ai vu"
   ]
  },
  {
   "cell_type": "markdown",
   "id": "8151addc-6618-4999-ac69-4fb64f652efc",
   "metadata": {},
   "source": [
    "## Problème d'affichage ase view"
   ]
  },
  {
   "cell_type": "markdown",
   "id": "7a79aac9-889e-413f-9ea9-5a8346c056b8",
   "metadata": {},
   "source": [
    "### I) Lignes en trop "
   ]
  },
  {
   "cell_type": "markdown",
   "id": "3d727c74-29c1-4a93-8aed-a1f7f2ad7e00",
   "metadata": {},
   "source": [
    "Nous ne parvenons pas à enlever tout l'affichage meme en mettant noOutput=True .\n",
    "Il reste deux lignes (Moments of inertia et Core/Surface analyzis ). Cela devient génant lorsque on génère beaucoup de forme ."
   ]
  },
  {
   "cell_type": "markdown",
   "id": "977bbe4c-09c8-4e09-98fd-cf419daf6840",
   "metadata": {},
   "source": [
    "Le forme \"truncated_cube\" de la classe archimedean affiche en plus des ase view de haut dessus, un partie removing."
   ]
  },
  {
   "cell_type": "markdown",
   "id": "bbeb09fd-53f2-4449-893c-55c3b0b92f9b",
   "metadata": {},
   "source": [
    "### II) Fenetres ASE qui s'ouvrent"
   ]
  },
  {
   "cell_type": "markdown",
   "id": "50dd6596-cb4c-45ed-88d9-6d2d0e8717a1",
   "metadata": {},
   "source": [
    "Il y a également des fenêtres qui s'ouvrent en affichant la forme avec les atomes malgré les noOutput=True et aseView=False.\n",
    "Cet affichage est encore présent pour la classe Other, pour le cube fcc et le cube bcc de la classe platonic, pour le truncated cube et le truncated octahedron de la classe archimedean, pour trigonal_bipyramid de la classe johnson."
   ]
  },
  {
   "cell_type": "markdown",
   "id": "1ef5ccc1-5e7f-4a6f-b5a2-8d1470328f3d",
   "metadata": {},
   "source": [
    "## Autre problème"
   ]
  },
  {
   "cell_type": "markdown",
   "id": "ca0c4689-f3a5-4783-a396-77c28c97e61f",
   "metadata": {},
   "source": [
    "### I)Incompréhension d'arguments de fonction"
   ]
  },
  {
   "cell_type": "markdown",
   "id": "384c4eab-0a1c-4c30-bdf3-514a37e9b042",
   "metadata": {},
   "source": [
    "Pour la forme pentagonal_bipyramid de la classe johnson, certaines combinaison de nAtomsPerEdge, sizeOfTheElongatedPart et MarksTruncation\n",
    "ne marche pas (exemple nAtomsPerEdge = 2 sizeOfTheElongatedPart = 3 ,MarksTruncation = 2) et je ne comprends pas bien pourquoi."
   ]
  },
  {
   "cell_type": "code",
   "execution_count": null,
   "id": "e8d656e7-5bc2-4b06-8a24-cb69f92a402d",
   "metadata": {},
   "outputs": [],
   "source": []
  },
  {
   "cell_type": "code",
   "execution_count": null,
   "id": "c7f98494-ee9c-4486-adb9-438e09c2daec",
   "metadata": {},
   "outputs": [],
   "source": []
  }
 ],
 "metadata": {
  "kernelspec": {
   "display_name": "Python 3 (ipykernel)",
   "language": "python",
   "name": "python3"
  },
  "language_info": {
   "codemirror_mode": {
    "name": "ipython",
    "version": 3
   },
   "file_extension": ".py",
   "mimetype": "text/x-python",
   "name": "python",
   "nbconvert_exporter": "python",
   "pygments_lexer": "ipython3",
   "version": "3.11.9"
  }
 },
 "nbformat": 4,
 "nbformat_minor": 5
}
