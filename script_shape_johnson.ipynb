{
 "cells": [
  {
   "cell_type": "markdown",
   "id": "6613ee1a-f31a-4d78-90c8-c4e6d6b792df",
   "metadata": {
    "editable": true,
    "slideshow": {
     "slide_type": ""
    },
    "tags": []
   },
   "source": [
    "# Code de création de data frame pour la catégorie johnson"
   ]
  },
  {
   "cell_type": "markdown",
   "id": "c4793323-517a-4aaf-b649-142839972611",
   "metadata": {},
   "source": [
    "## I) Importation des bibliothèques"
   ]
  },
  {
   "cell_type": "code",
   "execution_count": 1,
   "id": "c15fb415-76a4-4f69-8b3d-6f6fea625850",
   "metadata": {},
   "outputs": [
    {
     "name": "stdout",
     "output_type": "stream",
     "text": [
      "C:\\Users\\rollan\\Documents\\GPU_stage\\pyNanoMatBuilder-main\n"
     ]
    },
    {
     "data": {
      "text/html": [
       "<style>\n",
       "h1, h2, h3, h4, h5, h6 {\n",
       "  font-family: Verdana, \"DejaVu Sans\", \"Bitstream Vera Sans\", Geneva, sans-serif;\n",
       "  font-weight: bold;\n",
       "}\n",
       "body, intro, introE, introT, rq, rqE, rqT, ex, exE, app, appE, sol, todo, figure  {\n",
       "  font-family: Verdana, \"DejaVu Sans\", \"Bitstream Vera Sans\", Geneva, sans-serif;\n",
       "  font-weight: 400;\n",
       "  font-size: 12px;\n",
       "}\n",
       "h1 {\n",
       "  border: 0 solid #333;\n",
       "  padding: 30px ;\n",
       "  color: white;\n",
       "  background: #b11d01;\n",
       "  text-align: center;\n",
       "}\n",
       "h2 {\n",
       "  border: 3px solid #333;\n",
       "  padding: 18px ;\n",
       "  color: #b11d01;\n",
       "  background: #ffffff;\n",
       "  text-align: center;\n",
       "}\n",
       "h3 {\n",
       "  border: 0 solid #333;\n",
       "  padding: 12px ;\n",
       "  color: #000000;\n",
       "  background: #c1c1c1;\n",
       "  text-align: left;\n",
       "}\n",
       "h4 {\n",
       "  border: 0 solid #333;\n",
       "  padding: 2px ;\n",
       "  color: #000000;\n",
       "  background: #d9fffc;\n",
       "  text-align: left;\n",
       "}\n",
       "h5 {\n",
       "  border: 1px solid #333;\n",
       "  padding: 2px ;\n",
       "  color: #000000;\n",
       "  background: #ffffff;\n",
       "  text-align: left;\n",
       "}\n",
       ".introT::before {    \n",
       "    content: attr(title);\n",
       "    background-color: #cecece;\n",
       "    margin-left:-0.5em;\n",
       "    margin-right:-0.5em;\n",
       "    padding-left:0.5em;\n",
       "    padding-right:0.5em;\n",
       "    font-weight: 600;\n",
       "    display: block;\n",
       "}\n",
       ".introT {    \n",
       "    background-color: #cecece80;\n",
       "    border-color: #969696;\n",
       "    border-left: 5px solid #969696;\n",
       "    padding: 0.5em;\n",
       "}\n",
       ".intro {    \n",
       "    background-color: #cecece80;\n",
       "    border-color: #969696;\n",
       "    border-left: 5px solid #969696;\n",
       "    padding: 0.5em;\n",
       "}\n",
       ".introE {    \n",
       "    background-color: #cecece80;\n",
       "    border-color: #969696;\n",
       "    border-left: 5px solid #969696;\n",
       "    padding: 0.5em;\n",
       "    color : #117996;\n",
       "}\n",
       ".rq::before {    \n",
       "    background-color: #fcd3d3;\n",
       "    color: #ff0000;\n",
       "    content:\"Remarque\";\n",
       "    margin-left:-0.5em;\n",
       "    margin-right:-0.5em;\n",
       "    padding-left:0.5em;\n",
       "    padding-right:0.5em;\n",
       "    font-weight: 600;\n",
       "    display: block;\n",
       "}\n",
       ".rq {    \n",
       "    background-color: #fcf2f2;\n",
       "    border-color: #dFb5b4;\n",
       "    border-left: 5px solid #dfb5b4;\n",
       "    padding: 0.5em;\n",
       "}\n",
       ".rqE::before {    \n",
       "    background-color: #fcd3d3;\n",
       "    color: #ff0000;\n",
       "    content:\"Pay attention\";\n",
       "    margin-left:-0.5em;\n",
       "    margin-right:-0.5em;\n",
       "    padding-left:0.5em;\n",
       "    padding-right:0.5em;\n",
       "    font-weight: 600;\n",
       "    display: block;\n",
       "}\n",
       ".rqE {    \n",
       "    background-color: #fcd3d380;\n",
       "    border-color: #dFb5b4;\n",
       "    border-left: 5px solid #dfb5b4;\n",
       "    padding: 0.5em;\n",
       "}\n",
       ".rqT::before {    \n",
       "    background-color: #fcd3d3;\n",
       "    color: #ff0000;\n",
       "    content: attr(title);\n",
       "    margin-left:-0.5em;\n",
       "    margin-right:-0.5em;\n",
       "    padding-left:0.5em;\n",
       "    padding-right:0.5em;\n",
       "    font-weight: 600;\n",
       "    display: block;\n",
       "}\n",
       ".rqT {    \n",
       "    background-color: #fcd3d380;\n",
       "    border-color: #dFb5b4;\n",
       "    border-left: 5px solid #dfb5b4;\n",
       "    padding: 0.5em;\n",
       "}\n",
       ".exold {    \n",
       "    background-color: #b2dbea80;\n",
       "    border-color: #0055ff;\n",
       "    border-left: 10px solid #0055ff;\n",
       "    padding: 0.5em;\n",
       "}\n",
       ".ex {    \n",
       "    background-color: #b2dbea80;\n",
       "    padding: 0.5em;\n",
       "    padding-top: 0em;\n",
       "    position:relative;\n",
       "}\n",
       ".ex::before {\n",
       "    background-color: #b2dbea;\n",
       "    content:\"Exercice. \" attr(title);\n",
       "    margin-left:-0.5em;\n",
       "    margin-right:-0.5em;\n",
       "    padding-left:0.5em;\n",
       "    padding-right:0.5em;\n",
       "    font-weight: 600;\n",
       "    display: block;\n",
       "}\n",
       ".exE {    \n",
       "    background-color: #b2dbea80;\n",
       "    padding: 0.5em;\n",
       "    padding-top: 0em;\n",
       "    position:relative;\n",
       "    color : #117996;\n",
       "}\n",
       ".exE::before {\n",
       "    background-color: #b2dbea;\n",
       "    content:\"Exercise. \" attr(title);\n",
       "    margin-left:-0.5em;\n",
       "    margin-right:-0.5em;\n",
       "    padding-left:0.5em;\n",
       "    padding-right:0.5em;\n",
       "    font-weight: 600;\n",
       "    display: block;\n",
       "    color : #117996;\n",
       "}\n",
       ".app {    \n",
       "    background-color: #b2dbea80;\n",
       "    padding: 0.5em;\n",
       "    padding-top: 0em;\n",
       "    position:relative;\n",
       "}\n",
       ".app::before {\n",
       "    background-color: #b2dbea;\n",
       "    content:\"Application\";\n",
       "    margin-left:-0.5em;\n",
       "    margin-right:-0.5em;\n",
       "    padding-left:0.5em;\n",
       "    padding-right:0.5em;\n",
       "    font-weight: 600;\n",
       "    display: block;\n",
       "}\n",
       ".appE {    \n",
       "    background-color: #b2dbea80;\n",
       "    padding: 0.5em;\n",
       "    padding-top: 0em;\n",
       "    color : #117996;\n",
       "    position:relative;\n",
       "}\n",
       ".appE::before {\n",
       "    background-color: #b2dbea;\n",
       "    content:\"Application\";\n",
       "    margin-left:-0.5em;\n",
       "    margin-right:-0.5em;\n",
       "    padding-left:0.5em;\n",
       "    padding-right:0.5em;\n",
       "    font-weight: 600;\n",
       "    color : #117996;\n",
       "    display: block;\n",
       "}\n",
       ".sol {    \n",
       "    background-color: #bbeab880;\n",
       "    padding: 0.5em;\n",
       "    padding-top: 0em;\n",
       "    position:relative;\n",
       "}\n",
       ".sol::before {\n",
       "    background-color: #bbeab8;\n",
       "    content:\"Answer\";\n",
       "    margin-left:-0.5em;\n",
       "    margin-right:-0.5em;\n",
       "    padding-left:0.5em;\n",
       "    padding-right:0.5em;\n",
       "    font-weight: 600;\n",
       "    display: block;\n",
       "}\n",
       ".com {    \n",
       "    background-color: #ffff7f80;\n",
       "    padding: 0.5em;\n",
       "    padding-top: 0em;\n",
       "    position:relative;\n",
       "}\n",
       ".com::before {\n",
       "    background-color: #ffff7f;\n",
       "    content:\"Comment.\";\n",
       "    margin-left:-0.5em;\n",
       "    margin-right:-0.5em;\n",
       "    padding-left:0.5em;\n",
       "    padding-right:0.5em;\n",
       "    font-weight: 600;\n",
       "    display: block;\n",
       "}\n",
       "div.todo:before {\n",
       "    content:url(data:image/png;base64,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);\n",
       "    float:left;\n",
       "    margin-left:20px;\n",
       "    margin-right:20px;\n",
       "    margin-top:20px;\n",
       "    margin-bottom:20px;\n",
       "}\n",
       "div.todo{\n",
       "    font-size: 1.1em;\n",
       "    margin-top:40px;\n",
       "    background-color: #b2dbea80;\n",
       "}\n",
       "div.todo ul{\n",
       "    margin: 0.2em;\n",
       "}\n",
       "div.todo li{\n",
       "    margin-left:60px;\n",
       "    margin-top:0;\n",
       "    margin-bottom:0;\n",
       "}\n",
       "\n",
       "figure {\n",
       "    border: 0px;\n",
       "    text-align: center;\n",
       "    margin: 5px; /* adjust as needed */\n",
       "    display: block;\n",
       "    margin: auto;\n",
       "}\n",
       "figure img {\n",
       "    vertical-align: top;\n",
       "    text-align: center;\n",
       "    display: block;\n",
       "    margin: auto;\n",
       "}\n",
       "figure figcaption {\n",
       "    border: 0px;\n",
       "    text-align: center;\n",
       "    font-size: 11px;\n",
       "    margin: auto;\n",
       "}\n",
       "\n",
       "</style>\n"
      ],
      "text/plain": [
       "<IPython.core.display.HTML object>"
      ]
     },
     "metadata": {},
     "output_type": "display_data"
    },
    {
     "data": {
      "text/markdown": [
       "**Start at:** Friday 06 September 2024, 11:07:08  \n",
       "**Hostname:** insa-11557 (Windows)"
      ],
      "text/plain": [
       "<IPython.core.display.Markdown object>"
      ]
     },
     "metadata": {},
     "output_type": "display_data"
    },
    {
     "data": {
      "text/markdown": [
       "<p style=\"text-align: center\"><img width=\"800px\" src=\"./styles/svg/pyNanoMatBuilder_banner.svg\" style=\"margin-left:auto; margin-right:auto\"/></p>"
      ],
      "text/plain": [
       "<IPython.core.display.Markdown object>"
      ]
     },
     "metadata": {},
     "output_type": "display_data"
    },
    {
     "data": {
      "text/plain": [
       "<module 'pyNanoMatBuilder.utils' from 'C:\\\\Users\\\\rollan\\\\AppData\\\\Local\\\\anaconda3\\\\envs\\\\py311\\\\Lib\\\\site-packages\\\\pyNanoMatBuilder\\\\utils.py'>"
      ]
     },
     "execution_count": 1,
     "metadata": {},
     "output_type": "execute_result"
    }
   ],
   "source": [
    "##################\n",
    "# Initialization #\n",
    "##################\n",
    "\n",
    "import os\n",
    "import sys\n",
    "\n",
    "print(os.getcwd())\n",
    "cwd0 = './styles/'\n",
    "sys.path.append(cwd0)\n",
    "\n",
    "import visualID as vID\n",
    "from visualID import  fg, hl, bg\n",
    "vID.init(cwd0)\n",
    "\n",
    "import numpy as np\n",
    "import ase\n",
    "from ase.io import write\n",
    "from ase.visualize import view\n",
    "\n",
    "import pyNanoMatBuilder.utils as pNMBu\n",
    "import importlib\n",
    "import pandas as pd\n",
    "\n",
    "from pyNanoMatBuilder import platonicNPs as pNP\n",
    "\n",
    "import importlib\n",
    "importlib.reload(pNP)\n",
    "importlib.reload(pNMBu)"
   ]
  },
  {
   "cell_type": "markdown",
   "id": "2936959d-5c40-4695-baa8-4389a59eb732",
   "metadata": {},
   "source": [
    "## II) Définition des fonctions nécessaires à la creation du data frame "
   ]
  },
  {
   "cell_type": "markdown",
   "id": "36e73cd3-6fa9-493f-bad0-0e5cd00f140f",
   "metadata": {},
   "source": [
    "### Définition de la fonction clean"
   ]
  },
  {
   "cell_type": "markdown",
   "id": "fcad3475-a468-4ad5-98d3-f136fa01d7a1",
   "metadata": {},
   "source": [
    "**Cette fonction a pour but de supprimer la ligne en trop des fichiers xyz que on va creer** "
   ]
  },
  {
   "cell_type": "code",
   "execution_count": 2,
   "id": "80ffc31f-dff5-432f-ab33-ac3e6f907876",
   "metadata": {},
   "outputs": [],
   "source": [
    "def clean_xyz(filename):\n",
    "    dtype = {'names': ('element', 'x', 'y', 'z'),\n",
    "             'formats': ('U2', float, float, float)}    \n",
    "    element,x,y,z=np.loadtxt(filename,unpack=True,skiprows=2 , usecols=(0, 1, 2, 3), dtype=dtype)\n",
    "    outfile=os.path.dirname(filename)+'/'+os.path.basename(filename).split('.')[0]+'.xyz'\n",
    "    nb_atoms=len(x)\n",
    "    line2write=str(nb_atoms)+'\\n'\n",
    "    line2write+='\\n'\n",
    "    for i in range(nb_atoms):\n",
    "        line2write+=str(element[i])+'\\t %.8f'%x[i] + '\\t %.8f'%y[i] + '\\t %.8f'%z[i] +'\\n'\n",
    "    with open(outfile,'w') as file:\n",
    "        file.write(line2write)\n",
    "    return outfile"
   ]
  },
  {
   "cell_type": "markdown",
   "id": "5ae87168-55c8-42f5-9eea-e51835130377",
   "metadata": {},
   "source": [
    "### Definition fonction verificationde la covariance"
   ]
  },
  {
   "cell_type": "markdown",
   "id": "7eaff8fa-791b-4b6e-8915-3943b7974b49",
   "metadata": {},
   "source": [
    "**Cette fonction vérifie que la matrice de covariance est bien symétrique definie positive**"
   ]
  },
  {
   "cell_type": "code",
   "execution_count": 3,
   "id": "fa96c00a-2d79-4dc9-90b0-288942e6ca00",
   "metadata": {},
   "outputs": [],
   "source": [
    "import numpy as np\n",
    "\n",
    "def check_covariance_params(esds):\n",
    "    \"\"\"\n",
    "    Vérifie si les paramètres (écarts-types) sont valides pour créer une matrice de covariance\n",
    "    symétrique définie positive.\n",
    "\n",
    "    Args:\n",
    "    esds (list or np.array): Une liste ou un tableau contenant trois valeurs d'écart type.\n",
    "\n",
    "    Returns:\n",
    "    bool: True si la matrice de covariance est définie positive, False sinon.\n",
    "    \"\"\"\n",
    "    # Assurez-vous que l'entrée est un tableau numpy\n",
    "    esds = np.array(esds)\n",
    "\n",
    "    # Création de la matrice de covariance diagonale\n",
    "    cov_matrix = np.diag(esds**2)\n",
    "\n",
    "    # Vérification de la symétrie\n",
    "    if not np.allclose(cov_matrix, cov_matrix.T):\n",
    "        print(\"La matrice de covariance n'est pas symétrique.\")\n",
    "        return False\n",
    "\n",
    "    # Vérification des valeurs propres\n",
    "    eigvals = np.linalg.eigvals(cov_matrix)\n",
    "    #print(\"Valeurs propres de la matrice de covariance:\", eigvals)\n",
    "\n",
    "    # Vérification de la positivité définie\n",
    "    if np.any(eigvals <= 0):\n",
    "        print(\"La matrice de covariance n'est pas définie positive.\")\n",
    "        return False\n",
    "\n",
    "    return True"
   ]
  },
  {
   "cell_type": "markdown",
   "id": "b1b60897-45af-4d95-a56a-b6bd26020d1a",
   "metadata": {},
   "source": [
    "### Définition de la fonction Moment d'inertie"
   ]
  },
  {
   "cell_type": "markdown",
   "id": "7c3c8154-cd2a-4cfd-a848-104d2cd481ad",
   "metadata": {},
   "source": [
    "**Cette fonction a pour but de donner la liste des moments d'inertie par rapport à trois axes principaux**"
   ]
  },
  {
   "cell_type": "code",
   "execution_count": 4,
   "id": "acfd2c06-931e-4725-b8c6-2d41acdf1a9f",
   "metadata": {},
   "outputs": [],
   "source": [
    "def fmom_inertie(model):\n",
    "    \n",
    "        # model.get_moments_of_inertia() : Cette méthode est censée retourner les moments d'inertie du modèle.\n",
    "        # Les moments d'inertie sont des quantités physiques mesurant la répartition de la masse par rapport à trois axes principaux. \n",
    "        # Ils sont généralement donnés en unités de amu⋅A˚2amu⋅A˚2 (masse atomique unifiée multipliée par le carré de la longueur en angströms).\n",
    "        # La variable model.moi contient ces valeurs, souvent sous la forme d'un tableau ou d'une liste de trois valeurs correspondant aux moments d'inertie autour des trois axes principaux.\n",
    "        model.moi = model.get_moments_of_inertia()  # en amu*angstrom**2\n",
    "        # Pour arrondir chaque élément à deux décimales\n",
    "        model.moi = [round(x, 2) for x in model.moi]\n",
    "    \n",
    "        return model.moi"
   ]
  },
  {
   "cell_type": "markdown",
   "id": "9e9ae637-8560-49aa-8551-81415ae66c7c",
   "metadata": {},
   "source": [
    "**Autres possibilités avec le moment de inertie que on exploitra pas mais qui peuvent être utiles**"
   ]
  },
  {
   "cell_type": "code",
   "execution_count": 5,
   "id": "930441c7-1c38-4c46-8be8-a0a9ff381065",
   "metadata": {},
   "outputs": [],
   "source": [
    "## model.get_masses() : Cette méthode retourne les masses des atomes du modèle. Typiquement, ces masses sont données en unités de masse atomique unifiée (amu).\n",
    "## La variable model.masses est une liste ou un tableau contenant les masses de chaque atome dans le modèle.\n",
    "#model.masses = model.get_masses()\n",
    "\n",
    "## model.masses.sum() : Calcule la somme totale des masses de tous les atomes dans le modèle. Cela donne la masse totale du modèle, notée model.M\n",
    "#model.M = model.masses.sum()\n",
    "\n",
    "## model.moi / model.M : Divise les moments d'inertie par la masse totale pour obtenir les moments d'inertie normalisés. \n",
    "## Ces valeurs sont donc les moments d'inertie par unité de masse, ce qui peut être utile pour comparer des modèles de tailles différentes ou pour des calculs supplémentaires.\n",
    "#model.moiM = model.moi/model.M\n",
    "\n",
    "## np.sqrt(5 * model.moiM) : Calcule la racine carrée de cinq fois les moments d'inertie normalisés. Ce calcul est basé sur une approximation\n",
    "## spécifique pour estimer les dimensions du modèle, généralement utilisée dans des contextes où les moments d'inertie sont utilisés pour déterminer la taille de l'objet.\n",
    "## Cette formule peut être spécifique à un certain type de modèle ou d'application.\n",
    "#model.dim = 2*np.sqrt(5*model.moiM)\n",
    "\n",
    "      \n",
    "#return model.moi.sum()  # Retourne la somme des moments d'inertie pour un usage simplifié"
   ]
  },
  {
   "cell_type": "markdown",
   "id": "2a0c6cf5-92b6-49d5-9469-52a8cf8861e9",
   "metadata": {},
   "source": [
    "### Fonction extraction de pararmètre"
   ]
  },
  {
   "cell_type": "code",
   "execution_count": 6,
   "id": "e3df07e9-2c27-4470-af15-dc5c1bea8249",
   "metadata": {},
   "outputs": [],
   "source": [
    "import pandas as pd\n",
    "\n",
    "def extract_parameters( Element, Shape, qmin, qmax, qstep, b_iso, df):\n",
    "    # Filtrer le DataFrame en fonction des paramètres donnés\n",
    "    filtered_df = df[\n",
    "        (df['Element'] == Element) &\n",
    "        (df['Shape'] == Shape) &\n",
    "        (df['qmin'] == qmin) &\n",
    "        (df['qmax'] == qmax) &\n",
    "        (df['qstep'] == qstep) &\n",
    "        (df['b_iso'] == b_iso)\n",
    "    ]\n",
    "    \n",
    "    # Extraire les colonnes Size_parameters, q, et Intensities sous forme de listes\n",
    "    size_parameters = filtered_df['Size_parameters'].tolist()\n",
    "    intensities = filtered_df['Intensities'].tolist()\n",
    "    \n",
    "    # Convertir les listes de Size_parameters en liste des premiers éléments (car on veut pas [3,0,0] etc mais juste [3]\n",
    "    size_parameters = [t[0] for t in size_parameters]\n",
    "\n",
    "    return size_parameters, intensities\n",
    "\n",
    "# Exemple d'utilisation\n",
    "# Supposez que votre DataFrame est stocké dans la variable df\n",
    "#size_parameters,intensities = extract_parameters('Ag', \"cuboctahedron\", 0.01, 20, 0.01, 0.1, df)"
   ]
  },
  {
   "cell_type": "markdown",
   "id": "9ac79f5e-090e-46a1-978f-bd742237c18b",
   "metadata": {},
   "source": [
    "### Fonction extraction de pararmètre pour des tailles à plusieurs paramètres"
   ]
  },
  {
   "cell_type": "code",
   "execution_count": 7,
   "id": "6b624df4-02c5-4951-bed7-96470cf67177",
   "metadata": {},
   "outputs": [],
   "source": [
    "import pandas as pd\n",
    "\n",
    "def extract_parameters_multi( Element, Shape, qmin, qmax, qstep, b_iso, df):\n",
    "    # Filtrer le DataFrame en fonction des paramètres donnés\n",
    "    filtered_df = df[\n",
    "        (df['Element'] == Element) &\n",
    "        (df['Shape'] == Shape) &\n",
    "        (df['qmin'] == qmin) &\n",
    "        (df['qmax'] == qmax) &\n",
    "        (df['qstep'] == qstep) &\n",
    "        (df['b_iso'] == b_iso)\n",
    "    ]\n",
    "    \n",
    "    # Extraire les colonnes Size_parameters, q, et Intensities sous forme de listes\n",
    "    size_parameters = filtered_df['Size_parameters'].tolist()\n",
    "    intensities = filtered_df['Intensities'].tolist()\n",
    "    \n",
    "    \n",
    "\n",
    "    return size_parameters, intensities\n",
    "\n",
    "# Exemple d'utilisation\n",
    "# Supposez que votre DataFrame est stocké dans la variable df\n",
    "#size_parameters,intensities = extract_parameters('Ag', \"cuboctahedron\", 0.01, 20, 0.01, 0.1, df)"
   ]
  },
  {
   "cell_type": "markdown",
   "id": "3dd63a4a-94cb-4c9f-841e-927e8249b61a",
   "metadata": {},
   "source": [
    "### Fonction générale polydispersité pour des tailles à un seul paramètre"
   ]
  },
  {
   "cell_type": "code",
   "execution_count": 17,
   "id": "877e48a8-e448-4c3d-ba5d-818a7d6f9aec",
   "metadata": {},
   "outputs": [],
   "source": [
    "import os\n",
    "from pathlib import Path\n",
    "from scipy.stats import norm,cauchy\n",
    "import numpy as np\n",
    "import matplotlib.pyplot as plt\n",
    "\n",
    "\n",
    "\n",
    "def polydis (Element,Shape,qmin,qmax,qstep,biso,esd,mean,df=\"stage/Base_de_donnees_finale/fichier_global.pk\") :\n",
    "\n",
    "    \n",
    "    ############################## PARAMETERS FOR MODEL GENERATION ##########################################################\n",
    "    \n",
    "    mean=mean[0]\n",
    "    esd=esd[0]\n",
    "    size_parameters, intensities = extract_parameters(Element, Shape,qmin,qmax,qstep,biso,df)\n",
    "    y=norm.pdf(size_parameters,mean,esd)\n",
    "   \n",
    "    #################################### Weighted summation of contributions to get average S(q) ########################    \n",
    "    # Mutliply each S(q) by its corresponding weight\n",
    "    index=0\n",
    "    taille=int((qmax - qmin) / qstep) + 1\n",
    "    iq_pol=np.zeros(taille)\n",
    "    for weight in y:\n",
    "       \n",
    "        ws=weight*np.array(intensities[index])\n",
    "        iq_pol+=ws\n",
    "        index+=1\n",
    "    \n",
    "    \n",
    "    iq_pol=iq_pol.tolist()\n",
    "    \n",
    "    \n",
    "    return iq_pol"
   ]
  },
  {
   "cell_type": "markdown",
   "id": "ef4ee070-f5f7-434a-89f4-a9a658664685",
   "metadata": {},
   "source": [
    "### Fonction générale polydispersité pour des tailles à plusieurs paramètres"
   ]
  },
  {
   "cell_type": "code",
   "execution_count": 43,
   "id": "54638f3d-ad51-4966-b5be-13c825a1e613",
   "metadata": {},
   "outputs": [],
   "source": [
    "import numpy as np\n",
    "from scipy.stats import multivariate_normal\n",
    "import os\n",
    "from pathlib import Path\n",
    "from scipy.stats import norm,cauchy\n",
    "import numpy as np\n",
    "import matplotlib.pyplot as plt\n",
    "\n",
    "\n",
    "def polydis_multi(Element, Shape, qmin, qmax, qstep, biso, esd, mean, df=\"stage/Base_de_donnees_finale/fichier_global.pk\"):\n",
    "\n",
    "\n",
    "    ############################## PARAMETERS FOR MODEL GENERATION ##########################################################\n",
    "  \n",
    "\n",
    "    # Distribution normale multivariée pour les axes de l'ellipsoïde\n",
    "    \n",
    "    cov_matrix = np.diag([esd[0]**2, esd[1]**2,esd[2]**2])\n",
    "    size_parameters, intensities = extract_parameters_multi(Element, Shape,qmin,qmax,qstep,biso,df)\n",
    "    \n",
    "    \n",
    "    mvn = multivariate_normal(mean=mean, cov=cov_matrix)\n",
    "    # Calcul de la pondération en fonction de la distribution multivariée\n",
    "    y = mvn.pdf(np.array(size_parameters))\n",
    "    \n",
    "\n",
    "    #################################### Weighted summation of contributions to get average S(q) ########################    \n",
    "    # Mutliply each S(q) by its corresponding weight\n",
    "    index=0\n",
    "    taille=int((qmax - qmin) / qstep) + 1\n",
    "    iq_pol=np.zeros(taille)\n",
    "    \n",
    "\n",
    "    \n",
    "    # Boucle sur chaque combinaison d'intensités\n",
    "    for weight in y:\n",
    "        \n",
    "        ws=weight*np.array(intensities[index])\n",
    "        iq_pol+=ws\n",
    "        index+=1\n",
    "    \n",
    "    iq_pol=iq_pol.tolist()\n",
    "\n",
    "    \n",
    "    return iq_pol"
   ]
  },
  {
   "cell_type": "markdown",
   "id": "b4373b88-7c44-4220-b699-d057f940ae7f",
   "metadata": {},
   "source": [
    "### Définition de la fonction de gestion des datas frame pour la catégorie des solides johnson"
   ]
  },
  {
   "cell_type": "markdown",
   "id": "0d452dab-c8fd-43f9-b616-7e3e84c7d2fd",
   "metadata": {},
   "source": [
    "**Cette fonction a pour but de creer un data frame de une ligne contenant les arguments que on a donné**"
   ]
  },
  {
   "cell_type": "code",
   "execution_count": 35,
   "id": "2f7cf04f-0f3a-4bf7-aeb5-0e09538d4928",
   "metadata": {},
   "outputs": [],
   "source": [
    "def fonction_gestion_dataframe_shapes_johnson(element,forme,distance,size,mean,esd,qmin=0.01,qmax=20,qstep=0.01,biso=0.01, endroit_fich_xyz='tempxyz.xyz'):\n",
    "    \"\"\"\n",
    "    forme (trigonal_bipyramid, pentagonal_bipyramid ) -- string\n",
    "    element (ex Au )-- string\n",
    "    distance = distance entre plus proche voisin -- float\n",
    "    size: liste de 3 éléments, le premier est le nombre d'atome par bords, le deuxième est la taille de la partie allongée et le troisième est la marque de troncature --list integer\n",
    "    qmin -- list \n",
    "    qmax -- list \n",
    "    qstep -- list \n",
    "    biso : pour simuler la vibration atomique et avoir des modèles plus réalistes -- list\n",
    "    endroit_fich_xyz =  l'endroit ou on veut enregister notre fichier xyz qui sera creé pui supprimé durant l'exécution de la fonction --string\n",
    "    \"\"\"\n",
    "    #on importe les bibliothèques utiles\n",
    "    \n",
    "    from pyNanoMatBuilder import crystalNPs as cyNP\n",
    "    import numpy as np\n",
    "    from pyNanoMatBuilder import platonicNPs as pNP\n",
    "    from pyNanoMatBuilder import johnsonNPs as jNP\n",
    "    from pyNanoMatBuilder import utils as pNMBu\n",
    "    import importlib\n",
    "    from ase.io import write, read\n",
    "    \n",
    "    # Entrer l'endroit ou on veut enregister notre fichier xyz \n",
    "    fich_xyz=f\"{endroit_fich_xyz}\"\n",
    "\n",
    "    \n",
    "    # Création du DataFrame vide (que on viendra remplir dans la suite ) avec les colonnes spécifiées\n",
    "    df = pd.DataFrame(columns=[\"Solid_class\",\"Element\",\"Shape\", \"Distance\",\"Size_parameters\",\"Eq_Radius\",\"moment_of_inertia\",\"n_Atoms\",\"polydispersity\",\"qmin\",\"qmax\",\"qstep\",\"b_iso\",\"q\",\"Intensities\"])\n",
    "\n",
    "    #Disjonction de cas selon les arguments (plus précisément la forme) que ont a rentés\n",
    "    if forme != \"trigonal_bipyramid\" and forme != \"pentagonal_bipyramid\" :\n",
    "        print(\"La forme donnée n'est pas dans la classe des solides johnson\")\n",
    "              \n",
    "\n",
    "    #cas pour le trigonal_bipyramid\n",
    "    if forme == \"trigonal_bipyramid\" :\n",
    "\n",
    "        #si c'est bien cette forme alors on creer un fichier xyz qui prends en compte les arguments de la fonction\n",
    "        tbp = jNP.fcctbp(f\"{element}\",distance,size[0],aseView=False,thresholdCoreSurface = 0.,skipSymmetryAnalyzis = True,noOutput = True)\n",
    "        write(fich_xyz, tbp.NP)\n",
    "        try:\n",
    "            r=tbp.radiusCircumscribedSphere()\n",
    "        except:\n",
    "            r=0 #pas encore de fonction radius pour cette classe, donc on rentre 0 par défaut\n",
    "         \n",
    "        n_Atoms=tbp.nAtoms\n",
    "        \n",
    "      \n",
    "    #cas pour le pentagonal_bipyramid \n",
    "    if forme == \"pentagonal_bipyramid\" :\n",
    "        \n",
    "        #si c'est bien cette forme alors on creer un fichier xyz qui prends en compte les arguments de la fonction\n",
    "        \n",
    "        ppy1 = jNP.epbpyM(f\"{element}\",distance,size[0],size[1],size[2],aseView=False,thresholdCoreSurface = 0.,skipSymmetryAnalyzis = True,noOutput = True)\n",
    "        write(fich_xyz, ppy1.NP)\n",
    "        try:\n",
    "            r=ppy1.radiusCircumscribedSphere()\n",
    "        except:\n",
    "            r=0 #pas encore de fonction radius pour cette classe, donc on rentre 0 par défaut\n",
    "        \n",
    "        n_Atoms=ppy1.nAtoms\n",
    "       \n",
    "        \n",
    "      \n",
    "        \n",
    "       \n",
    "   \n",
    "\n",
    "    #On utilise la fonction Clean sur le fichier xyz que on vient de creer \n",
    "    xyz_file=fich_xyz\n",
    "    xyz_file=clean_xyz(xyz_file)\n",
    "\n",
    "    # Calcul du moment d'inertie en utilisant le modèle\n",
    "    structure = read(fich_xyz)  # Lecture de la structure à partir du fichier xyz\n",
    "    Mom_inertie = fmom_inertie(structure)\n",
    "\n",
    "    \n",
    "    # On calcul I(q) avec la fonction debyecalculator et on rentre les tableau numpy générés dans les variable Q et I\n",
    "    from debyecalculator import DebyeCalculator\n",
    "    \n",
    "    calc = DebyeCalculator(qmin=qmin,qmax=qmax,qstep=qstep,device='cuda',biso=biso)\n",
    "    Q, I = calc.iq(structure_source=xyz_file)\n",
    "\n",
    "    ###### supression du fichier xyz pour garder seulement le nom\n",
    "    os.remove(fich_xyz)\n",
    "\n",
    "\n",
    "    # On transforme nos deux tableau numpy Q et I en tableau et on rentrer nos arguments de fonction dans des variables\n",
    "    df_pol = pd.read_pickle(\"stage/Base_de_donnees_finale/fichier_global.pk\")\n",
    "    \n",
    "    Q=Q\n",
    "    Distance =distance\n",
    "    Element= f\"{element}\"\n",
    "    Forme=f\"{forme}\"\n",
    "    Type_solide= \"Johnson\"\n",
    "    Rayon=r\n",
    "    moment_inertie=Mom_inertie\n",
    "    Qmin=qmin\n",
    "    Qmax=qmax\n",
    "    Qstep=qstep\n",
    "    Biso=biso\n",
    "    N_Atoms=n_Atoms\n",
    "    Couche=size\n",
    "    \n",
    "    if esd==[0,0,0] :\n",
    "        Polydispersity=list([0,0])\n",
    "        Intensite=I\n",
    "    else :\n",
    "        if forme == \"pentagonal_bipyramid\" :\n",
    "            \n",
    "            Polydispersity=list([mean,esd])\n",
    "            Intensite=polydis_multi(element,forme,qmin,qmax,qstep,biso,esd,mean,df_pol)\n",
    "        else :\n",
    "            Polydispersity=list([mean[0],esd[0]])\n",
    "            Intensite=polydis(element,forme,qmin,qmax,qstep,biso,esd,mean,df_pol)\n",
    "            \n",
    "    \n",
    "    \n",
    "    # On ajout une ligne au DataFrame (avec ce qu'on voulait dedans comme données) en utilisant loc\n",
    "    df.loc[len(df)] = [Type_solide,Element, Forme, Distance, Couche,Rayon, moment_inertie,N_Atoms,Polydispersity,Qmin,Qmax,Qstep,Biso, Q,Intensite]\n",
    "    \n",
    "    \n",
    "    return df  "
   ]
  },
  {
   "cell_type": "markdown",
   "id": "12f471c3-c6a0-4ef2-be43-9d6b6e0b28b4",
   "metadata": {},
   "source": [
    "### Definition de la fonction qui génère les fichier pk pour la classe johnson"
   ]
  },
  {
   "cell_type": "markdown",
   "id": "39b05432-aca3-4559-87aa-bece3712c56a",
   "metadata": {},
   "source": [
    "**On utilise des boucles afin de parcourir toutes les formes, les éléments et le nombre de couche souhaitées.**\n",
    "**On peut remarqué que à chaque élément il y a une seule distance associée, donc on ne parcours que les éléments dans la boucle**\n",
    "**et on leurs associes leurs distance respective**"
   ]
  },
  {
   "cell_type": "markdown",
   "id": "5c62edef-0aaf-4147-a6a9-ea946e5b9107",
   "metadata": {},
   "source": [
    "**On effectue ici la concaténation des data frame générés par la fonction d'haut dessus**"
   ]
  },
  {
   "cell_type": "code",
   "execution_count": 39,
   "id": "651d5cbb-1d40-4585-9b92-affaabb7fc20",
   "metadata": {},
   "outputs": [],
   "source": [
    "def generation_fichier_pk_johnson(esd_list,forme,size,nbr_elem,List_qmax,List_qmin,List_qstep,List_biso,lieu_fich_xyz,fichier_intermediaire,fichier_sortie):\n",
    "    \n",
    "\n",
    "    # Création du data frame vide (df_concatenated) que on va remplir au fur et à mesure\n",
    "    df_concatenated  = pd.DataFrame(columns=[\"Solid_class\",\"Element\", \"Shape\", \"Distance\",\"Size_parameters\",\"Eq_Radius\",\"moment_of_inertia\",\"n_Atoms\",\"polydispersity\",\"qmin\",\"qmax\",\"qstep\",\"b_iso\",\"q\",\"Intensities\"])\n",
    "\n",
    "\n",
    "    # On effectue donc les boucles imbriquées\n",
    "    for f in  forme :\n",
    "        for s in size:\n",
    "            m=s\n",
    "            for i in range (0,nbr_elem):\n",
    "                for qmin in List_qmin:\n",
    "                    for qmax in List_qmax:\n",
    "                        for qstep in List_qstep:\n",
    "                            for biso in List_biso:\n",
    "                                for esd in esd_list:   \n",
    "                            \n",
    "                                    # Création du data frame d'une ligne avec la fonction de gestion des datas frame , et contenant les éléments de la boucle en cours\n",
    "                                    df_ligne = fonction_gestion_dataframe_shapes_johnson(liste_element[i],f,liste_distance[i],s,m,esd,qmin,qmax,qstep,biso,lieu_fich_xyz)\n",
    "                                    # Concaténation du data frame globale avec la data frame d'une ligne\n",
    "                                    df_concatenated = pd.concat([df_concatenated , df_ligne])\n",
    "\n",
    "\n",
    "        # Enregistrement forme par forme lors de grosses boucle pour garder certaines choses meme si cela crash\n",
    "        df_concatenated.to_pickle(fichier_intermediaire%f)\n",
    "\n",
    "        \n",
    "\n",
    "\n",
    "    #Sauvegarder le DataFrame en CSV avec tabulation\n",
    "    df_concatenated.to_pickle(fichier_sortie)\n"
   ]
  },
  {
   "cell_type": "markdown",
   "id": "621b854d-8858-48af-b52a-880a9bec28d7",
   "metadata": {},
   "source": [
    "## III) Création du data frame "
   ]
  },
  {
   "cell_type": "markdown",
   "id": "0e906e23-6d20-4eec-93b3-2f728ac43a01",
   "metadata": {},
   "source": [
    "**Variables à changer pour les utilisateurs**"
   ]
  },
  {
   "cell_type": "code",
   "execution_count": 40,
   "id": "ffb5c1cf-0482-40ff-aab9-d20847d808c0",
   "metadata": {},
   "outputs": [
    {
     "name": "stdout",
     "output_type": "stream",
     "text": [
      "24 lignes attendues dans le data frame\n"
     ]
    }
   ],
   "source": [
    "# Création de la liste des couches (à changer en fonction de ce que l'on veut jusqu'a 9 apres c'est plus gros que 5nm de diamètre)\n",
    "size = [[4,0,0],[4,2,2]]\n",
    "#,[5,3,2],[6,3,2],[7,3,2],[8,3,2],[9,3,2]\n",
    "# Création de la liste des formes, avec liste_de_toutes_les_formes= [\"trigonal_bipyramid\", \"pentagonal_bipyramid\"] \n",
    "forme= [\"pentagonal_bipyramid\",\"trigonal_bipyramid\"] #( à changer en fonction de ce que l'on veut (en prenant dans les elements de la liste_de_toutes_les_formes)\n",
    "\n",
    "# Création des listes d'éléments (liste_element) et de distances (liste_distance\n",
    "dtype={\"names\":(\"atom\",\"distance\"),\"formats\":('U2',float)} #juste pour avoir la liste des elements et des distances de dessous\n",
    "liste_element,liste_distance=np.loadtxt(\"atom_latt2.txt\",unpack=True,skiprows=1,usecols=[0,1],dtype=dtype)\n",
    "\n",
    "\n",
    "# Création d'une variable nbr_elem pour parcourir la liste des éléments que de 0 à un certain nombre. \n",
    "# Si on veut parcourir toute la liste des éléments, nbr_elem =len(liste_element)\n",
    "nbr_elem=6\n",
    "\n",
    "#création de la liste esd, mettre [[0,0,0]] pour esd_list si on ne veut pas de polydispersité , sinon ne jamais mettre [[0,0,0]]\n",
    "\n",
    "esd_list=[[0.8,0.8,0.8]]\n",
    "#[[0.8,0.8,0.8]]\n",
    "\n",
    "#création des listes qmin, qmax, qstep et biso\n",
    "List_qmin=[0.01]\n",
    "List_qmax=[20]\n",
    "List_qstep=[0.01]\n",
    "List_biso=[0.1]\n",
    "\n",
    "# endroit ou on veut enregister notre fichier xyz qui sera creé pui supprimé durant l'exécution de la fonction\n",
    "lieu_fich_xyz=\"stage/xyz_tempo/tempo.xyz\"\n",
    "\n",
    "#Nom du fichier qui enregistre forme par forme dans le boucle pour sauvegarder les datas frame petit a petit au cas ou en cas de bug\n",
    "fichier_intermediaire='stage/Base_de_donnees_sauvegarde/%s.pk'\n",
    "\n",
    "# Nom du fichier pk de sortie \n",
    "fichier_sortie='stage/Base_de_donnees/polytest2.pk'\n",
    "\n",
    "\n",
    "\n",
    "########## VERIFICATION AVANT DE LANCER #########################\n",
    "\n",
    "for esd in esd_list:\n",
    "    if check_covariance_params(esd)==False :\n",
    "        print (\"ATTENTION ! La matrice de covariance n'est pas symétrique définie positive. La boucle va planter si vous voulez de la polydispersité\")\n",
    "\n",
    "print(len(forme)*nbr_elem*len(size)*len(List_qmin)*len(List_qmax)*len(List_qstep)*len(List_biso)*len(esd_list),\"lignes attendues dans le data frame\")"
   ]
  },
  {
   "cell_type": "markdown",
   "id": "f4739f01-de8e-475a-81f0-30e9ba8a7c0f",
   "metadata": {},
   "source": [
    "**Appel de la fonction**"
   ]
  },
  {
   "cell_type": "code",
   "execution_count": 44,
   "id": "9fa6c2ae-be4f-4aaa-a158-ff86138e2222",
   "metadata": {},
   "outputs": [
    {
     "name": "stdout",
     "output_type": "stream",
     "text": [
      "Total number of atoms = 105\n"
     ]
    },
    {
     "data": {
      "text/html": [
       "<div style='text-align:center; font-family: sans; font-weight: bold; font-size:14px;background-color: #007a7a;color: #ffffff'>Moments of inertia</div>"
      ],
      "text/plain": [
       "<IPython.core.display.HTML object>"
      ]
     },
     "metadata": {},
     "output_type": "display_data"
    },
    {
     "name": "stdout",
     "output_type": "stream",
     "text": [
      "Moments of inertia = 252708.09 252708.09 381007.35 amu.Å2\n",
      "Moments of inertia / M = 22.31 22.31 33.64 amu.Å2\n",
      "Size of the ellipsoid = 2.11 2.11 2.59 nm\n"
     ]
    },
    {
     "data": {
      "text/html": [
       "<div style='text-align:center; font-family: sans; font-weight: bold; font-size:14px;background-color: #007a7a;color: #ffffff'>Core/Surface analyzis</div>"
      ],
      "text/plain": [
       "<IPython.core.display.HTML object>"
      ]
     },
     "metadata": {},
     "output_type": "display_data"
    },
    {
     "data": {
      "text/html": [
       "<div style='text-align:center; font-family: sans; font-weight: bold; font-size:12px;background-color: #cbcbcb;color: b'>Convex Hull analyzis</div>"
      ],
      "text/plain": [
       "<IPython.core.display.HTML object>"
      ]
     },
     "metadata": {},
     "output_type": "display_data"
    },
    {
     "name": "stdout",
     "output_type": "stream",
     "text": [
      "Found:\n",
      "  - 7 vertices\n",
      "  - 10 simplices\n",
      "\u001b[94mDuration : 00:00:00 008ms\u001b[0m\n"
     ]
    },
    {
     "data": {
      "text/html": [
       "<div style='text-align:center; font-family: sans; font-weight: bold; font-size:12px;background-color: #cbcbcb;color: b'>Find all points that lie in the given planes</div>"
      ],
      "text/plain": [
       "<IPython.core.display.HTML object>"
      ]
     },
     "metadata": {},
     "output_type": "display_data"
    },
    {
     "name": "stdout",
     "output_type": "stream",
     "text": [
      "0 atoms lie in the plane(s)\n",
      "\u001b[94mDuration : 00:00:00 012ms\u001b[0m\n",
      "Total number of atoms = 105\n"
     ]
    },
    {
     "name": "stderr",
     "output_type": "stream",
     "text": [
      "C:\\Users\\rollan\\AppData\\Local\\Temp\\ipykernel_52728\\468027112.py:22: FutureWarning: The behavior of DataFrame concatenation with empty or all-NA entries is deprecated. In a future version, this will no longer exclude empty or all-NA columns when determining the result dtypes. To retain the old behavior, exclude the relevant entries before the concat operation.\n",
      "  df_concatenated = pd.concat([df_concatenated , df_ligne])\n"
     ]
    },
    {
     "data": {
      "text/html": [
       "<div style='text-align:center; font-family: sans; font-weight: bold; font-size:14px;background-color: #007a7a;color: #ffffff'>Moments of inertia</div>"
      ],
      "text/plain": [
       "<IPython.core.display.HTML object>"
      ]
     },
     "metadata": {},
     "output_type": "display_data"
    },
    {
     "name": "stdout",
     "output_type": "stream",
     "text": [
      "Moments of inertia = 61624.34 61624.34 92910.85 amu.Å2\n",
      "Moments of inertia / M = 21.75 21.75 32.80 amu.Å2\n",
      "Size of the ellipsoid = 2.09 2.09 2.56 nm\n"
     ]
    },
    {
     "data": {
      "text/html": [
       "<div style='text-align:center; font-family: sans; font-weight: bold; font-size:14px;background-color: #007a7a;color: #ffffff'>Core/Surface analyzis</div>"
      ],
      "text/plain": [
       "<IPython.core.display.HTML object>"
      ]
     },
     "metadata": {},
     "output_type": "display_data"
    },
    {
     "data": {
      "text/html": [
       "<div style='text-align:center; font-family: sans; font-weight: bold; font-size:12px;background-color: #cbcbcb;color: b'>Convex Hull analyzis</div>"
      ],
      "text/plain": [
       "<IPython.core.display.HTML object>"
      ]
     },
     "metadata": {},
     "output_type": "display_data"
    },
    {
     "name": "stdout",
     "output_type": "stream",
     "text": [
      "Found:\n",
      "  - 7 vertices\n",
      "  - 10 simplices\n",
      "\u001b[94mDuration : 00:00:00 008ms\u001b[0m\n"
     ]
    },
    {
     "data": {
      "text/html": [
       "<div style='text-align:center; font-family: sans; font-weight: bold; font-size:12px;background-color: #cbcbcb;color: b'>Find all points that lie in the given planes</div>"
      ],
      "text/plain": [
       "<IPython.core.display.HTML object>"
      ]
     },
     "metadata": {},
     "output_type": "display_data"
    },
    {
     "name": "stdout",
     "output_type": "stream",
     "text": [
      "0 atoms lie in the plane(s)\n",
      "\u001b[94mDuration : 00:00:00 012ms\u001b[0m\n",
      "Total number of atoms = 105\n"
     ]
    },
    {
     "data": {
      "text/html": [
       "<div style='text-align:center; font-family: sans; font-weight: bold; font-size:14px;background-color: #007a7a;color: #ffffff'>Moments of inertia</div>"
      ],
      "text/plain": [
       "<IPython.core.display.HTML object>"
      ]
     },
     "metadata": {},
     "output_type": "display_data"
    },
    {
     "name": "stdout",
     "output_type": "stream",
     "text": [
      "Moments of inertia = 459806.91 459806.91 693249.71 amu.Å2\n",
      "Moments of inertia / M = 22.23 22.23 33.52 amu.Å2\n",
      "Size of the ellipsoid = 2.11 2.11 2.59 nm\n"
     ]
    },
    {
     "data": {
      "text/html": [
       "<div style='text-align:center; font-family: sans; font-weight: bold; font-size:14px;background-color: #007a7a;color: #ffffff'>Core/Surface analyzis</div>"
      ],
      "text/plain": [
       "<IPython.core.display.HTML object>"
      ]
     },
     "metadata": {},
     "output_type": "display_data"
    },
    {
     "data": {
      "text/html": [
       "<div style='text-align:center; font-family: sans; font-weight: bold; font-size:12px;background-color: #cbcbcb;color: b'>Convex Hull analyzis</div>"
      ],
      "text/plain": [
       "<IPython.core.display.HTML object>"
      ]
     },
     "metadata": {},
     "output_type": "display_data"
    },
    {
     "name": "stdout",
     "output_type": "stream",
     "text": [
      "Found:\n",
      "  - 7 vertices\n",
      "  - 10 simplices\n",
      "\u001b[94mDuration : 00:00:00 003ms\u001b[0m\n"
     ]
    },
    {
     "data": {
      "text/html": [
       "<div style='text-align:center; font-family: sans; font-weight: bold; font-size:12px;background-color: #cbcbcb;color: b'>Find all points that lie in the given planes</div>"
      ],
      "text/plain": [
       "<IPython.core.display.HTML object>"
      ]
     },
     "metadata": {},
     "output_type": "display_data"
    },
    {
     "name": "stdout",
     "output_type": "stream",
     "text": [
      "0 atoms lie in the plane(s)\n",
      "\u001b[94mDuration : 00:00:00 016ms\u001b[0m\n",
      "Total number of atoms = 105\n"
     ]
    },
    {
     "data": {
      "text/html": [
       "<div style='text-align:center; font-family: sans; font-weight: bold; font-size:14px;background-color: #007a7a;color: #ffffff'>Moments of inertia</div>"
      ],
      "text/plain": [
       "<IPython.core.display.HTML object>"
      ]
     },
     "metadata": {},
     "output_type": "display_data"
    },
    {
     "name": "stdout",
     "output_type": "stream",
     "text": [
      "Moments of inertia = 104126.79 104126.79 156991.70 amu.Å2\n",
      "Moments of inertia / M = 16.83 16.83 25.37 amu.Å2\n",
      "Size of the ellipsoid = 1.83 1.83 2.25 nm\n"
     ]
    },
    {
     "data": {
      "text/html": [
       "<div style='text-align:center; font-family: sans; font-weight: bold; font-size:14px;background-color: #007a7a;color: #ffffff'>Core/Surface analyzis</div>"
      ],
      "text/plain": [
       "<IPython.core.display.HTML object>"
      ]
     },
     "metadata": {},
     "output_type": "display_data"
    },
    {
     "data": {
      "text/html": [
       "<div style='text-align:center; font-family: sans; font-weight: bold; font-size:12px;background-color: #cbcbcb;color: b'>Convex Hull analyzis</div>"
      ],
      "text/plain": [
       "<IPython.core.display.HTML object>"
      ]
     },
     "metadata": {},
     "output_type": "display_data"
    },
    {
     "name": "stdout",
     "output_type": "stream",
     "text": [
      "Found:\n",
      "  - 7 vertices\n",
      "  - 10 simplices\n",
      "\u001b[94mDuration : 00:00:00 008ms\u001b[0m\n"
     ]
    },
    {
     "data": {
      "text/html": [
       "<div style='text-align:center; font-family: sans; font-weight: bold; font-size:12px;background-color: #cbcbcb;color: b'>Find all points that lie in the given planes</div>"
      ],
      "text/plain": [
       "<IPython.core.display.HTML object>"
      ]
     },
     "metadata": {},
     "output_type": "display_data"
    },
    {
     "name": "stdout",
     "output_type": "stream",
     "text": [
      "0 atoms lie in the plane(s)\n",
      "\u001b[94mDuration : 00:00:00 012ms\u001b[0m\n",
      "Total number of atoms = 105\n"
     ]
    },
    {
     "data": {
      "text/html": [
       "<div style='text-align:center; font-family: sans; font-weight: bold; font-size:14px;background-color: #007a7a;color: #ffffff'>Moments of inertia</div>"
      ],
      "text/plain": [
       "<IPython.core.display.HTML object>"
      ]
     },
     "metadata": {},
     "output_type": "display_data"
    },
    {
     "name": "stdout",
     "output_type": "stream",
     "text": [
      "Moments of inertia = 98832.94 98832.94 149010.17 amu.Å2\n",
      "Moments of inertia / M = 18.10 18.10 27.29 amu.Å2\n",
      "Size of the ellipsoid = 1.90 1.90 2.34 nm\n"
     ]
    },
    {
     "data": {
      "text/html": [
       "<div style='text-align:center; font-family: sans; font-weight: bold; font-size:14px;background-color: #007a7a;color: #ffffff'>Core/Surface analyzis</div>"
      ],
      "text/plain": [
       "<IPython.core.display.HTML object>"
      ]
     },
     "metadata": {},
     "output_type": "display_data"
    },
    {
     "data": {
      "text/html": [
       "<div style='text-align:center; font-family: sans; font-weight: bold; font-size:12px;background-color: #cbcbcb;color: b'>Convex Hull analyzis</div>"
      ],
      "text/plain": [
       "<IPython.core.display.HTML object>"
      ]
     },
     "metadata": {},
     "output_type": "display_data"
    },
    {
     "name": "stdout",
     "output_type": "stream",
     "text": [
      "Found:\n",
      "  - 7 vertices\n",
      "  - 10 simplices\n",
      "\u001b[94mDuration : 00:00:00 004ms\u001b[0m\n"
     ]
    },
    {
     "data": {
      "text/html": [
       "<div style='text-align:center; font-family: sans; font-weight: bold; font-size:12px;background-color: #cbcbcb;color: b'>Find all points that lie in the given planes</div>"
      ],
      "text/plain": [
       "<IPython.core.display.HTML object>"
      ]
     },
     "metadata": {},
     "output_type": "display_data"
    },
    {
     "name": "stdout",
     "output_type": "stream",
     "text": [
      "0 atoms lie in the plane(s)\n",
      "\u001b[94mDuration : 00:00:00 016ms\u001b[0m\n",
      "Total number of atoms = 105\n"
     ]
    },
    {
     "data": {
      "text/html": [
       "<div style='text-align:center; font-family: sans; font-weight: bold; font-size:14px;background-color: #007a7a;color: #ffffff'>Moments of inertia</div>"
      ],
      "text/plain": [
       "<IPython.core.display.HTML object>"
      ]
     },
     "metadata": {},
     "output_type": "display_data"
    },
    {
     "name": "stdout",
     "output_type": "stream",
     "text": [
      "Moments of inertia = 116087.20 116087.20 175024.38 amu.Å2\n",
      "Moments of inertia / M = 17.40 17.40 26.23 amu.Å2\n",
      "Size of the ellipsoid = 1.87 1.87 2.29 nm\n"
     ]
    },
    {
     "data": {
      "text/html": [
       "<div style='text-align:center; font-family: sans; font-weight: bold; font-size:14px;background-color: #007a7a;color: #ffffff'>Core/Surface analyzis</div>"
      ],
      "text/plain": [
       "<IPython.core.display.HTML object>"
      ]
     },
     "metadata": {},
     "output_type": "display_data"
    },
    {
     "data": {
      "text/html": [
       "<div style='text-align:center; font-family: sans; font-weight: bold; font-size:12px;background-color: #cbcbcb;color: b'>Convex Hull analyzis</div>"
      ],
      "text/plain": [
       "<IPython.core.display.HTML object>"
      ]
     },
     "metadata": {},
     "output_type": "display_data"
    },
    {
     "name": "stdout",
     "output_type": "stream",
     "text": [
      "Found:\n",
      "  - 7 vertices\n",
      "  - 10 simplices\n",
      "\u001b[94mDuration : 00:00:00 004ms\u001b[0m\n"
     ]
    },
    {
     "data": {
      "text/html": [
       "<div style='text-align:center; font-family: sans; font-weight: bold; font-size:12px;background-color: #cbcbcb;color: b'>Find all points that lie in the given planes</div>"
      ],
      "text/plain": [
       "<IPython.core.display.HTML object>"
      ]
     },
     "metadata": {},
     "output_type": "display_data"
    },
    {
     "name": "stdout",
     "output_type": "stream",
     "text": [
      "0 atoms lie in the plane(s)\n",
      "\u001b[94mDuration : 00:00:00 016ms\u001b[0m\n"
     ]
    },
    {
     "data": {
      "text/html": [
       "<div style='text-align:center; font-family: sans; font-weight: bold; font-size:12px;background-color: #cbcbcb;color: b'>Plane truncation (all planes condition: True, delete above planes: True, initial number of atoms = 51)</div>"
      ],
      "text/plain": [
       "<IPython.core.display.HTML object>"
      ]
     },
     "metadata": {},
     "output_type": "display_data"
    },
    {
     "name": "stdout",
     "output_type": "stream",
     "text": [
      "47 atoms lie below the plane(s)\n"
     ]
    },
    {
     "data": {
      "text/html": [
       "<div style='text-align:center; font-family: sans; font-weight: bold; font-size:12px;background-color: #cbcbcb;color: b'>Plane truncation (all planes condition: True, delete above planes: True, initial number of atoms = 47)</div>"
      ],
      "text/plain": [
       "<IPython.core.display.HTML object>"
      ]
     },
     "metadata": {},
     "output_type": "display_data"
    },
    {
     "name": "stdout",
     "output_type": "stream",
     "text": [
      "43 atoms lie below the plane(s)\n"
     ]
    },
    {
     "data": {
      "text/html": [
       "<div style='text-align:center; font-family: sans; font-weight: bold; font-size:12px;background-color: #cbcbcb;color: b'>Plane truncation (all planes condition: True, delete above planes: True, initial number of atoms = 43)</div>"
      ],
      "text/plain": [
       "<IPython.core.display.HTML object>"
      ]
     },
     "metadata": {},
     "output_type": "display_data"
    },
    {
     "name": "stdout",
     "output_type": "stream",
     "text": [
      "39 atoms lie below the plane(s)\n"
     ]
    },
    {
     "data": {
      "text/html": [
       "<div style='text-align:center; font-family: sans; font-weight: bold; font-size:12px;background-color: #cbcbcb;color: b'>Plane truncation (all planes condition: True, delete above planes: True, initial number of atoms = 39)</div>"
      ],
      "text/plain": [
       "<IPython.core.display.HTML object>"
      ]
     },
     "metadata": {},
     "output_type": "display_data"
    },
    {
     "name": "stdout",
     "output_type": "stream",
     "text": [
      "35 atoms lie below the plane(s)\n"
     ]
    },
    {
     "data": {
      "text/html": [
       "<div style='text-align:center; font-family: sans; font-weight: bold; font-size:12px;background-color: #cbcbcb;color: b'>Plane truncation (all planes condition: True, delete above planes: True, initial number of atoms = 35)</div>"
      ],
      "text/plain": [
       "<IPython.core.display.HTML object>"
      ]
     },
     "metadata": {},
     "output_type": "display_data"
    },
    {
     "name": "stdout",
     "output_type": "stream",
     "text": [
      "31 atoms lie below the plane(s)\n",
      "Total number of atoms = 142\n"
     ]
    },
    {
     "data": {
      "text/html": [
       "<div style='text-align:center; font-family: sans; font-weight: bold; font-size:14px;background-color: #007a7a;color: #ffffff'>Moments of inertia</div>"
      ],
      "text/plain": [
       "<IPython.core.display.HTML object>"
      ]
     },
     "metadata": {},
     "output_type": "display_data"
    },
    {
     "name": "stdout",
     "output_type": "stream",
     "text": [
      "Moments of inertia = 392134.81 470264.48 470264.48 amu.Å2\n",
      "Moments of inertia / M = 25.60 30.70 30.70 amu.Å2\n",
      "Size of the ellipsoid = 2.26 2.48 2.48 nm\n"
     ]
    },
    {
     "data": {
      "text/html": [
       "<div style='text-align:center; font-family: sans; font-weight: bold; font-size:14px;background-color: #007a7a;color: #ffffff'>Core/Surface analyzis</div>"
      ],
      "text/plain": [
       "<IPython.core.display.HTML object>"
      ]
     },
     "metadata": {},
     "output_type": "display_data"
    },
    {
     "data": {
      "text/html": [
       "<div style='text-align:center; font-family: sans; font-weight: bold; font-size:12px;background-color: #cbcbcb;color: b'>Convex Hull analyzis</div>"
      ],
      "text/plain": [
       "<IPython.core.display.HTML object>"
      ]
     },
     "metadata": {},
     "output_type": "display_data"
    },
    {
     "name": "stdout",
     "output_type": "stream",
     "text": [
      "Found:\n",
      "  - 22 vertices\n",
      "  - 40 simplices\n",
      "\u001b[94mDuration : 00:00:00 008ms\u001b[0m\n"
     ]
    },
    {
     "data": {
      "text/html": [
       "<div style='text-align:center; font-family: sans; font-weight: bold; font-size:12px;background-color: #cbcbcb;color: b'>Find all points that lie in the given planes</div>"
      ],
      "text/plain": [
       "<IPython.core.display.HTML object>"
      ]
     },
     "metadata": {},
     "output_type": "display_data"
    },
    {
     "name": "stdout",
     "output_type": "stream",
     "text": [
      "0 atoms lie in the plane(s)\n",
      "\u001b[94mDuration : 00:00:00 057ms\u001b[0m\n"
     ]
    },
    {
     "data": {
      "text/html": [
       "<div style='text-align:center; font-family: sans; font-weight: bold; font-size:12px;background-color: #cbcbcb;color: b'>Plane truncation (all planes condition: True, delete above planes: True, initial number of atoms = 51)</div>"
      ],
      "text/plain": [
       "<IPython.core.display.HTML object>"
      ]
     },
     "metadata": {},
     "output_type": "display_data"
    },
    {
     "name": "stdout",
     "output_type": "stream",
     "text": [
      "47 atoms lie below the plane(s)\n"
     ]
    },
    {
     "data": {
      "text/html": [
       "<div style='text-align:center; font-family: sans; font-weight: bold; font-size:12px;background-color: #cbcbcb;color: b'>Plane truncation (all planes condition: True, delete above planes: True, initial number of atoms = 47)</div>"
      ],
      "text/plain": [
       "<IPython.core.display.HTML object>"
      ]
     },
     "metadata": {},
     "output_type": "display_data"
    },
    {
     "name": "stdout",
     "output_type": "stream",
     "text": [
      "43 atoms lie below the plane(s)\n"
     ]
    },
    {
     "data": {
      "text/html": [
       "<div style='text-align:center; font-family: sans; font-weight: bold; font-size:12px;background-color: #cbcbcb;color: b'>Plane truncation (all planes condition: True, delete above planes: True, initial number of atoms = 43)</div>"
      ],
      "text/plain": [
       "<IPython.core.display.HTML object>"
      ]
     },
     "metadata": {},
     "output_type": "display_data"
    },
    {
     "name": "stdout",
     "output_type": "stream",
     "text": [
      "39 atoms lie below the plane(s)\n"
     ]
    },
    {
     "data": {
      "text/html": [
       "<div style='text-align:center; font-family: sans; font-weight: bold; font-size:12px;background-color: #cbcbcb;color: b'>Plane truncation (all planes condition: True, delete above planes: True, initial number of atoms = 39)</div>"
      ],
      "text/plain": [
       "<IPython.core.display.HTML object>"
      ]
     },
     "metadata": {},
     "output_type": "display_data"
    },
    {
     "name": "stdout",
     "output_type": "stream",
     "text": [
      "35 atoms lie below the plane(s)\n"
     ]
    },
    {
     "data": {
      "text/html": [
       "<div style='text-align:center; font-family: sans; font-weight: bold; font-size:12px;background-color: #cbcbcb;color: b'>Plane truncation (all planes condition: True, delete above planes: True, initial number of atoms = 35)</div>"
      ],
      "text/plain": [
       "<IPython.core.display.HTML object>"
      ]
     },
     "metadata": {},
     "output_type": "display_data"
    },
    {
     "name": "stdout",
     "output_type": "stream",
     "text": [
      "31 atoms lie below the plane(s)\n",
      "Total number of atoms = 142\n"
     ]
    },
    {
     "data": {
      "text/html": [
       "<div style='text-align:center; font-family: sans; font-weight: bold; font-size:14px;background-color: #007a7a;color: #ffffff'>Moments of inertia</div>"
      ],
      "text/plain": [
       "<IPython.core.display.HTML object>"
      ]
     },
     "metadata": {},
     "output_type": "display_data"
    },
    {
     "name": "stdout",
     "output_type": "stream",
     "text": [
      "Moments of inertia = 95624.35 114676.73 114676.73 amu.Å2\n",
      "Moments of inertia / M = 24.96 29.93 29.93 amu.Å2\n",
      "Size of the ellipsoid = 2.23 2.45 2.45 nm\n"
     ]
    },
    {
     "data": {
      "text/html": [
       "<div style='text-align:center; font-family: sans; font-weight: bold; font-size:14px;background-color: #007a7a;color: #ffffff'>Core/Surface analyzis</div>"
      ],
      "text/plain": [
       "<IPython.core.display.HTML object>"
      ]
     },
     "metadata": {},
     "output_type": "display_data"
    },
    {
     "data": {
      "text/html": [
       "<div style='text-align:center; font-family: sans; font-weight: bold; font-size:12px;background-color: #cbcbcb;color: b'>Convex Hull analyzis</div>"
      ],
      "text/plain": [
       "<IPython.core.display.HTML object>"
      ]
     },
     "metadata": {},
     "output_type": "display_data"
    },
    {
     "name": "stdout",
     "output_type": "stream",
     "text": [
      "Found:\n",
      "  - 22 vertices\n",
      "  - 40 simplices\n",
      "\u001b[94mDuration : 00:00:00 004ms\u001b[0m\n"
     ]
    },
    {
     "data": {
      "text/html": [
       "<div style='text-align:center; font-family: sans; font-weight: bold; font-size:12px;background-color: #cbcbcb;color: b'>Find all points that lie in the given planes</div>"
      ],
      "text/plain": [
       "<IPython.core.display.HTML object>"
      ]
     },
     "metadata": {},
     "output_type": "display_data"
    },
    {
     "name": "stdout",
     "output_type": "stream",
     "text": [
      "0 atoms lie in the plane(s)\n",
      "\u001b[94mDuration : 00:00:00 056ms\u001b[0m\n"
     ]
    },
    {
     "data": {
      "text/html": [
       "<div style='text-align:center; font-family: sans; font-weight: bold; font-size:12px;background-color: #cbcbcb;color: b'>Plane truncation (all planes condition: True, delete above planes: True, initial number of atoms = 51)</div>"
      ],
      "text/plain": [
       "<IPython.core.display.HTML object>"
      ]
     },
     "metadata": {},
     "output_type": "display_data"
    },
    {
     "name": "stdout",
     "output_type": "stream",
     "text": [
      "47 atoms lie below the plane(s)\n"
     ]
    },
    {
     "data": {
      "text/html": [
       "<div style='text-align:center; font-family: sans; font-weight: bold; font-size:12px;background-color: #cbcbcb;color: b'>Plane truncation (all planes condition: True, delete above planes: True, initial number of atoms = 47)</div>"
      ],
      "text/plain": [
       "<IPython.core.display.HTML object>"
      ]
     },
     "metadata": {},
     "output_type": "display_data"
    },
    {
     "name": "stdout",
     "output_type": "stream",
     "text": [
      "43 atoms lie below the plane(s)\n"
     ]
    },
    {
     "data": {
      "text/html": [
       "<div style='text-align:center; font-family: sans; font-weight: bold; font-size:12px;background-color: #cbcbcb;color: b'>Plane truncation (all planes condition: True, delete above planes: True, initial number of atoms = 43)</div>"
      ],
      "text/plain": [
       "<IPython.core.display.HTML object>"
      ]
     },
     "metadata": {},
     "output_type": "display_data"
    },
    {
     "name": "stdout",
     "output_type": "stream",
     "text": [
      "39 atoms lie below the plane(s)\n"
     ]
    },
    {
     "data": {
      "text/html": [
       "<div style='text-align:center; font-family: sans; font-weight: bold; font-size:12px;background-color: #cbcbcb;color: b'>Plane truncation (all planes condition: True, delete above planes: True, initial number of atoms = 39)</div>"
      ],
      "text/plain": [
       "<IPython.core.display.HTML object>"
      ]
     },
     "metadata": {},
     "output_type": "display_data"
    },
    {
     "name": "stdout",
     "output_type": "stream",
     "text": [
      "35 atoms lie below the plane(s)\n"
     ]
    },
    {
     "data": {
      "text/html": [
       "<div style='text-align:center; font-family: sans; font-weight: bold; font-size:12px;background-color: #cbcbcb;color: b'>Plane truncation (all planes condition: True, delete above planes: True, initial number of atoms = 35)</div>"
      ],
      "text/plain": [
       "<IPython.core.display.HTML object>"
      ]
     },
     "metadata": {},
     "output_type": "display_data"
    },
    {
     "name": "stdout",
     "output_type": "stream",
     "text": [
      "31 atoms lie below the plane(s)\n",
      "Total number of atoms = 142\n"
     ]
    },
    {
     "data": {
      "text/html": [
       "<div style='text-align:center; font-family: sans; font-weight: bold; font-size:14px;background-color: #007a7a;color: #ffffff'>Moments of inertia</div>"
      ],
      "text/plain": [
       "<IPython.core.display.HTML object>"
      ]
     },
     "metadata": {},
     "output_type": "display_data"
    },
    {
     "name": "stdout",
     "output_type": "stream",
     "text": [
      "Moments of inertia = 713496.33 855654.67 855654.67 amu.Å2\n",
      "Moments of inertia / M = 25.51 30.59 30.59 amu.Å2\n",
      "Size of the ellipsoid = 2.26 2.47 2.47 nm\n"
     ]
    },
    {
     "data": {
      "text/html": [
       "<div style='text-align:center; font-family: sans; font-weight: bold; font-size:14px;background-color: #007a7a;color: #ffffff'>Core/Surface analyzis</div>"
      ],
      "text/plain": [
       "<IPython.core.display.HTML object>"
      ]
     },
     "metadata": {},
     "output_type": "display_data"
    },
    {
     "data": {
      "text/html": [
       "<div style='text-align:center; font-family: sans; font-weight: bold; font-size:12px;background-color: #cbcbcb;color: b'>Convex Hull analyzis</div>"
      ],
      "text/plain": [
       "<IPython.core.display.HTML object>"
      ]
     },
     "metadata": {},
     "output_type": "display_data"
    },
    {
     "name": "stdout",
     "output_type": "stream",
     "text": [
      "Found:\n",
      "  - 22 vertices\n",
      "  - 40 simplices\n",
      "\u001b[94mDuration : 00:00:00 004ms\u001b[0m\n"
     ]
    },
    {
     "data": {
      "text/html": [
       "<div style='text-align:center; font-family: sans; font-weight: bold; font-size:12px;background-color: #cbcbcb;color: b'>Find all points that lie in the given planes</div>"
      ],
      "text/plain": [
       "<IPython.core.display.HTML object>"
      ]
     },
     "metadata": {},
     "output_type": "display_data"
    },
    {
     "name": "stdout",
     "output_type": "stream",
     "text": [
      "0 atoms lie in the plane(s)\n",
      "\u001b[94mDuration : 00:00:00 066ms\u001b[0m\n"
     ]
    },
    {
     "data": {
      "text/html": [
       "<div style='text-align:center; font-family: sans; font-weight: bold; font-size:12px;background-color: #cbcbcb;color: b'>Plane truncation (all planes condition: True, delete above planes: True, initial number of atoms = 51)</div>"
      ],
      "text/plain": [
       "<IPython.core.display.HTML object>"
      ]
     },
     "metadata": {},
     "output_type": "display_data"
    },
    {
     "name": "stdout",
     "output_type": "stream",
     "text": [
      "47 atoms lie below the plane(s)\n"
     ]
    },
    {
     "data": {
      "text/html": [
       "<div style='text-align:center; font-family: sans; font-weight: bold; font-size:12px;background-color: #cbcbcb;color: b'>Plane truncation (all planes condition: True, delete above planes: True, initial number of atoms = 47)</div>"
      ],
      "text/plain": [
       "<IPython.core.display.HTML object>"
      ]
     },
     "metadata": {},
     "output_type": "display_data"
    },
    {
     "name": "stdout",
     "output_type": "stream",
     "text": [
      "43 atoms lie below the plane(s)\n"
     ]
    },
    {
     "data": {
      "text/html": [
       "<div style='text-align:center; font-family: sans; font-weight: bold; font-size:12px;background-color: #cbcbcb;color: b'>Plane truncation (all planes condition: True, delete above planes: True, initial number of atoms = 43)</div>"
      ],
      "text/plain": [
       "<IPython.core.display.HTML object>"
      ]
     },
     "metadata": {},
     "output_type": "display_data"
    },
    {
     "name": "stdout",
     "output_type": "stream",
     "text": [
      "39 atoms lie below the plane(s)\n"
     ]
    },
    {
     "data": {
      "text/html": [
       "<div style='text-align:center; font-family: sans; font-weight: bold; font-size:12px;background-color: #cbcbcb;color: b'>Plane truncation (all planes condition: True, delete above planes: True, initial number of atoms = 39)</div>"
      ],
      "text/plain": [
       "<IPython.core.display.HTML object>"
      ]
     },
     "metadata": {},
     "output_type": "display_data"
    },
    {
     "name": "stdout",
     "output_type": "stream",
     "text": [
      "35 atoms lie below the plane(s)\n"
     ]
    },
    {
     "data": {
      "text/html": [
       "<div style='text-align:center; font-family: sans; font-weight: bold; font-size:12px;background-color: #cbcbcb;color: b'>Plane truncation (all planes condition: True, delete above planes: True, initial number of atoms = 35)</div>"
      ],
      "text/plain": [
       "<IPython.core.display.HTML object>"
      ]
     },
     "metadata": {},
     "output_type": "display_data"
    },
    {
     "name": "stdout",
     "output_type": "stream",
     "text": [
      "31 atoms lie below the plane(s)\n",
      "Total number of atoms = 142\n"
     ]
    },
    {
     "data": {
      "text/html": [
       "<div style='text-align:center; font-family: sans; font-weight: bold; font-size:14px;background-color: #007a7a;color: #ffffff'>Moments of inertia</div>"
      ],
      "text/plain": [
       "<IPython.core.display.HTML object>"
      ]
     },
     "metadata": {},
     "output_type": "display_data"
    },
    {
     "name": "stdout",
     "output_type": "stream",
     "text": [
      "Moments of inertia = 161576.70 193769.54 193769.54 amu.Å2\n",
      "Moments of inertia / M = 19.31 23.15 23.15 amu.Å2\n",
      "Size of the ellipsoid = 1.97 2.15 2.15 nm\n"
     ]
    },
    {
     "data": {
      "text/html": [
       "<div style='text-align:center; font-family: sans; font-weight: bold; font-size:14px;background-color: #007a7a;color: #ffffff'>Core/Surface analyzis</div>"
      ],
      "text/plain": [
       "<IPython.core.display.HTML object>"
      ]
     },
     "metadata": {},
     "output_type": "display_data"
    },
    {
     "data": {
      "text/html": [
       "<div style='text-align:center; font-family: sans; font-weight: bold; font-size:12px;background-color: #cbcbcb;color: b'>Convex Hull analyzis</div>"
      ],
      "text/plain": [
       "<IPython.core.display.HTML object>"
      ]
     },
     "metadata": {},
     "output_type": "display_data"
    },
    {
     "name": "stdout",
     "output_type": "stream",
     "text": [
      "Found:\n",
      "  - 22 vertices\n",
      "  - 40 simplices\n",
      "\u001b[94mDuration : 00:00:00 005ms\u001b[0m\n"
     ]
    },
    {
     "data": {
      "text/html": [
       "<div style='text-align:center; font-family: sans; font-weight: bold; font-size:12px;background-color: #cbcbcb;color: b'>Find all points that lie in the given planes</div>"
      ],
      "text/plain": [
       "<IPython.core.display.HTML object>"
      ]
     },
     "metadata": {},
     "output_type": "display_data"
    },
    {
     "name": "stdout",
     "output_type": "stream",
     "text": [
      "0 atoms lie in the plane(s)\n",
      "\u001b[94mDuration : 00:00:00 059ms\u001b[0m\n"
     ]
    },
    {
     "data": {
      "text/html": [
       "<div style='text-align:center; font-family: sans; font-weight: bold; font-size:12px;background-color: #cbcbcb;color: b'>Plane truncation (all planes condition: True, delete above planes: True, initial number of atoms = 51)</div>"
      ],
      "text/plain": [
       "<IPython.core.display.HTML object>"
      ]
     },
     "metadata": {},
     "output_type": "display_data"
    },
    {
     "name": "stdout",
     "output_type": "stream",
     "text": [
      "47 atoms lie below the plane(s)\n"
     ]
    },
    {
     "data": {
      "text/html": [
       "<div style='text-align:center; font-family: sans; font-weight: bold; font-size:12px;background-color: #cbcbcb;color: b'>Plane truncation (all planes condition: True, delete above planes: True, initial number of atoms = 47)</div>"
      ],
      "text/plain": [
       "<IPython.core.display.HTML object>"
      ]
     },
     "metadata": {},
     "output_type": "display_data"
    },
    {
     "name": "stdout",
     "output_type": "stream",
     "text": [
      "43 atoms lie below the plane(s)\n"
     ]
    },
    {
     "data": {
      "text/html": [
       "<div style='text-align:center; font-family: sans; font-weight: bold; font-size:12px;background-color: #cbcbcb;color: b'>Plane truncation (all planes condition: True, delete above planes: True, initial number of atoms = 43)</div>"
      ],
      "text/plain": [
       "<IPython.core.display.HTML object>"
      ]
     },
     "metadata": {},
     "output_type": "display_data"
    },
    {
     "name": "stdout",
     "output_type": "stream",
     "text": [
      "39 atoms lie below the plane(s)\n"
     ]
    },
    {
     "data": {
      "text/html": [
       "<div style='text-align:center; font-family: sans; font-weight: bold; font-size:12px;background-color: #cbcbcb;color: b'>Plane truncation (all planes condition: True, delete above planes: True, initial number of atoms = 39)</div>"
      ],
      "text/plain": [
       "<IPython.core.display.HTML object>"
      ]
     },
     "metadata": {},
     "output_type": "display_data"
    },
    {
     "name": "stdout",
     "output_type": "stream",
     "text": [
      "35 atoms lie below the plane(s)\n"
     ]
    },
    {
     "data": {
      "text/html": [
       "<div style='text-align:center; font-family: sans; font-weight: bold; font-size:12px;background-color: #cbcbcb;color: b'>Plane truncation (all planes condition: True, delete above planes: True, initial number of atoms = 35)</div>"
      ],
      "text/plain": [
       "<IPython.core.display.HTML object>"
      ]
     },
     "metadata": {},
     "output_type": "display_data"
    },
    {
     "name": "stdout",
     "output_type": "stream",
     "text": [
      "31 atoms lie below the plane(s)\n",
      "Total number of atoms = 142\n"
     ]
    },
    {
     "data": {
      "text/html": [
       "<div style='text-align:center; font-family: sans; font-weight: bold; font-size:14px;background-color: #007a7a;color: #ffffff'>Moments of inertia</div>"
      ],
      "text/plain": [
       "<IPython.core.display.HTML object>"
      ]
     },
     "metadata": {},
     "output_type": "display_data"
    },
    {
     "name": "stdout",
     "output_type": "stream",
     "text": [
      "Moments of inertia = 153362.06 183918.21 183918.21 amu.Å2\n",
      "Moments of inertia / M = 20.77 24.91 24.91 amu.Å2\n",
      "Size of the ellipsoid = 2.04 2.23 2.23 nm\n"
     ]
    },
    {
     "data": {
      "text/html": [
       "<div style='text-align:center; font-family: sans; font-weight: bold; font-size:14px;background-color: #007a7a;color: #ffffff'>Core/Surface analyzis</div>"
      ],
      "text/plain": [
       "<IPython.core.display.HTML object>"
      ]
     },
     "metadata": {},
     "output_type": "display_data"
    },
    {
     "data": {
      "text/html": [
       "<div style='text-align:center; font-family: sans; font-weight: bold; font-size:12px;background-color: #cbcbcb;color: b'>Convex Hull analyzis</div>"
      ],
      "text/plain": [
       "<IPython.core.display.HTML object>"
      ]
     },
     "metadata": {},
     "output_type": "display_data"
    },
    {
     "name": "stdout",
     "output_type": "stream",
     "text": [
      "Found:\n",
      "  - 22 vertices\n",
      "  - 40 simplices\n",
      "\u001b[94mDuration : 00:00:00 008ms\u001b[0m\n"
     ]
    },
    {
     "data": {
      "text/html": [
       "<div style='text-align:center; font-family: sans; font-weight: bold; font-size:12px;background-color: #cbcbcb;color: b'>Find all points that lie in the given planes</div>"
      ],
      "text/plain": [
       "<IPython.core.display.HTML object>"
      ]
     },
     "metadata": {},
     "output_type": "display_data"
    },
    {
     "name": "stdout",
     "output_type": "stream",
     "text": [
      "0 atoms lie in the plane(s)\n",
      "\u001b[94mDuration : 00:00:00 064ms\u001b[0m\n"
     ]
    },
    {
     "data": {
      "text/html": [
       "<div style='text-align:center; font-family: sans; font-weight: bold; font-size:12px;background-color: #cbcbcb;color: b'>Plane truncation (all planes condition: True, delete above planes: True, initial number of atoms = 51)</div>"
      ],
      "text/plain": [
       "<IPython.core.display.HTML object>"
      ]
     },
     "metadata": {},
     "output_type": "display_data"
    },
    {
     "name": "stdout",
     "output_type": "stream",
     "text": [
      "47 atoms lie below the plane(s)\n"
     ]
    },
    {
     "data": {
      "text/html": [
       "<div style='text-align:center; font-family: sans; font-weight: bold; font-size:12px;background-color: #cbcbcb;color: b'>Plane truncation (all planes condition: True, delete above planes: True, initial number of atoms = 47)</div>"
      ],
      "text/plain": [
       "<IPython.core.display.HTML object>"
      ]
     },
     "metadata": {},
     "output_type": "display_data"
    },
    {
     "name": "stdout",
     "output_type": "stream",
     "text": [
      "43 atoms lie below the plane(s)\n"
     ]
    },
    {
     "data": {
      "text/html": [
       "<div style='text-align:center; font-family: sans; font-weight: bold; font-size:12px;background-color: #cbcbcb;color: b'>Plane truncation (all planes condition: True, delete above planes: True, initial number of atoms = 43)</div>"
      ],
      "text/plain": [
       "<IPython.core.display.HTML object>"
      ]
     },
     "metadata": {},
     "output_type": "display_data"
    },
    {
     "name": "stdout",
     "output_type": "stream",
     "text": [
      "39 atoms lie below the plane(s)\n"
     ]
    },
    {
     "data": {
      "text/html": [
       "<div style='text-align:center; font-family: sans; font-weight: bold; font-size:12px;background-color: #cbcbcb;color: b'>Plane truncation (all planes condition: True, delete above planes: True, initial number of atoms = 39)</div>"
      ],
      "text/plain": [
       "<IPython.core.display.HTML object>"
      ]
     },
     "metadata": {},
     "output_type": "display_data"
    },
    {
     "name": "stdout",
     "output_type": "stream",
     "text": [
      "35 atoms lie below the plane(s)\n"
     ]
    },
    {
     "data": {
      "text/html": [
       "<div style='text-align:center; font-family: sans; font-weight: bold; font-size:12px;background-color: #cbcbcb;color: b'>Plane truncation (all planes condition: True, delete above planes: True, initial number of atoms = 35)</div>"
      ],
      "text/plain": [
       "<IPython.core.display.HTML object>"
      ]
     },
     "metadata": {},
     "output_type": "display_data"
    },
    {
     "name": "stdout",
     "output_type": "stream",
     "text": [
      "31 atoms lie below the plane(s)\n",
      "Total number of atoms = 142\n"
     ]
    },
    {
     "data": {
      "text/html": [
       "<div style='text-align:center; font-family: sans; font-weight: bold; font-size:14px;background-color: #007a7a;color: #ffffff'>Moments of inertia</div>"
      ],
      "text/plain": [
       "<IPython.core.display.HTML object>"
      ]
     },
     "metadata": {},
     "output_type": "display_data"
    },
    {
     "name": "stdout",
     "output_type": "stream",
     "text": [
      "Moments of inertia = 180136.03 216026.67 216026.67 amu.Å2\n",
      "Moments of inertia / M = 19.96 23.94 23.94 amu.Å2\n",
      "Size of the ellipsoid = 2.00 2.19 2.19 nm\n"
     ]
    },
    {
     "data": {
      "text/html": [
       "<div style='text-align:center; font-family: sans; font-weight: bold; font-size:14px;background-color: #007a7a;color: #ffffff'>Core/Surface analyzis</div>"
      ],
      "text/plain": [
       "<IPython.core.display.HTML object>"
      ]
     },
     "metadata": {},
     "output_type": "display_data"
    },
    {
     "data": {
      "text/html": [
       "<div style='text-align:center; font-family: sans; font-weight: bold; font-size:12px;background-color: #cbcbcb;color: b'>Convex Hull analyzis</div>"
      ],
      "text/plain": [
       "<IPython.core.display.HTML object>"
      ]
     },
     "metadata": {},
     "output_type": "display_data"
    },
    {
     "name": "stdout",
     "output_type": "stream",
     "text": [
      "Found:\n",
      "  - 22 vertices\n",
      "  - 40 simplices\n",
      "\u001b[94mDuration : 00:00:00 008ms\u001b[0m\n"
     ]
    },
    {
     "data": {
      "text/html": [
       "<div style='text-align:center; font-family: sans; font-weight: bold; font-size:12px;background-color: #cbcbcb;color: b'>Find all points that lie in the given planes</div>"
      ],
      "text/plain": [
       "<IPython.core.display.HTML object>"
      ]
     },
     "metadata": {},
     "output_type": "display_data"
    },
    {
     "name": "stdout",
     "output_type": "stream",
     "text": [
      "0 atoms lie in the plane(s)\n",
      "\u001b[94mDuration : 00:00:00 054ms\u001b[0m\n"
     ]
    },
    {
     "data": {
      "text/html": [
       "<div style='text-align:center; font-family: sans; font-weight: bold; font-size:12px;background-color: #cbcbcb;color: b'>Generation of the coordinates of the tetrahedron</div>"
      ],
      "text/plain": [
       "<IPython.core.display.HTML object>"
      ]
     },
     "metadata": {},
     "output_type": "display_data"
    },
    {
     "name": "stdout",
     "output_type": "stream",
     "text": [
      "Total number of atoms = 35\n",
      "[]\n",
      "\u001b[94mDuration : 00:00:00 000ms\u001b[0m\n"
     ]
    },
    {
     "data": {
      "text/html": [
       "<div style='text-align:center; font-family: sans; font-weight: bold; font-size:12px;background-color: #cbcbcb;color: b'>Applying mirror reflection w.r.t. facet defined by atoms (0,1,2) </div>"
      ],
      "text/plain": [
       "<IPython.core.display.HTML object>"
      ]
     },
     "metadata": {},
     "output_type": "display_data"
    },
    {
     "name": "stdout",
     "output_type": "stream",
     "text": [
      "hkl solution: -1.00000 x + -1.00000 y + 1.00000 z + 4.08550 = 0\n",
      "Total number of atoms = 70\n",
      "\u001b[94mDuration : 00:00:00 036ms\u001b[0m\n"
     ]
    },
    {
     "data": {
      "text/html": [
       "<div style='text-align:center; font-family: sans; font-weight: bold; font-size:14px;background-color: #007a7a;color: #ffffff'>Moments of inertia</div>"
      ],
      "text/plain": [
       "<IPython.core.display.HTML object>"
      ]
     },
     "metadata": {},
     "output_type": "display_data"
    },
    {
     "name": "stdout",
     "output_type": "stream",
     "text": [
      "Moments of inertia = 100825.85 142836.62 142836.62 amu.Å2\n",
      "Moments of inertia / M = 13.35 18.92 18.92 amu.Å2\n",
      "Size of the ellipsoid = 1.63 1.95 1.95 nm\n"
     ]
    },
    {
     "data": {
      "text/html": [
       "<div style='text-align:center; font-family: sans; font-weight: bold; font-size:14px;background-color: #007a7a;color: #ffffff'>Core/Surface analyzis</div>"
      ],
      "text/plain": [
       "<IPython.core.display.HTML object>"
      ]
     },
     "metadata": {},
     "output_type": "display_data"
    },
    {
     "data": {
      "text/html": [
       "<div style='text-align:center; font-family: sans; font-weight: bold; font-size:12px;background-color: #cbcbcb;color: b'>Convex Hull analyzis</div>"
      ],
      "text/plain": [
       "<IPython.core.display.HTML object>"
      ]
     },
     "metadata": {},
     "output_type": "display_data"
    },
    {
     "name": "stdout",
     "output_type": "stream",
     "text": [
      "Found:\n",
      "  - 5 vertices\n",
      "  - 6 simplices\n",
      "\u001b[94mDuration : 00:00:00 004ms\u001b[0m\n"
     ]
    },
    {
     "data": {
      "text/html": [
       "<div style='text-align:center; font-family: sans; font-weight: bold; font-size:12px;background-color: #cbcbcb;color: b'>Find all points that lie in the given planes</div>"
      ],
      "text/plain": [
       "<IPython.core.display.HTML object>"
      ]
     },
     "metadata": {},
     "output_type": "display_data"
    },
    {
     "name": "stdout",
     "output_type": "stream",
     "text": [
      "0 atoms lie in the plane(s)\n",
      "\u001b[94mDuration : 00:00:00 008ms\u001b[0m\n"
     ]
    },
    {
     "data": {
      "text/html": [
       "<div style='text-align:center; font-family: sans; font-weight: bold; font-size:12px;background-color: #cbcbcb;color: b'>Generation of the coordinates of the tetrahedron</div>"
      ],
      "text/plain": [
       "<IPython.core.display.HTML object>"
      ]
     },
     "metadata": {},
     "output_type": "display_data"
    },
    {
     "name": "stdout",
     "output_type": "stream",
     "text": [
      "Total number of atoms = 35\n",
      "[]\n",
      "\u001b[94mDuration : 00:00:00 004ms\u001b[0m\n"
     ]
    },
    {
     "data": {
      "text/html": [
       "<div style='text-align:center; font-family: sans; font-weight: bold; font-size:12px;background-color: #cbcbcb;color: b'>Applying mirror reflection w.r.t. facet defined by atoms (0,1,2) </div>"
      ],
      "text/plain": [
       "<IPython.core.display.HTML object>"
      ]
     },
     "metadata": {},
     "output_type": "display_data"
    },
    {
     "name": "stdout",
     "output_type": "stream",
     "text": [
      "hkl solution: -1.00000 x + -1.00000 y + 1.00000 z + 4.03390 = 0\n",
      "Total number of atoms = 70\n",
      "\u001b[94mDuration : 00:00:00 036ms\u001b[0m\n"
     ]
    },
    {
     "data": {
      "text/html": [
       "<div style='text-align:center; font-family: sans; font-weight: bold; font-size:14px;background-color: #007a7a;color: #ffffff'>Moments of inertia</div>"
      ],
      "text/plain": [
       "<IPython.core.display.HTML object>"
      ]
     },
     "metadata": {},
     "output_type": "display_data"
    },
    {
     "name": "stdout",
     "output_type": "stream",
     "text": [
      "Moments of inertia = 24586.97 34831.54 34831.54 amu.Å2\n",
      "Moments of inertia / M = 13.02 18.44 18.44 amu.Å2\n",
      "Size of the ellipsoid = 1.61 1.92 1.92 nm\n"
     ]
    },
    {
     "data": {
      "text/html": [
       "<div style='text-align:center; font-family: sans; font-weight: bold; font-size:14px;background-color: #007a7a;color: #ffffff'>Core/Surface analyzis</div>"
      ],
      "text/plain": [
       "<IPython.core.display.HTML object>"
      ]
     },
     "metadata": {},
     "output_type": "display_data"
    },
    {
     "data": {
      "text/html": [
       "<div style='text-align:center; font-family: sans; font-weight: bold; font-size:12px;background-color: #cbcbcb;color: b'>Convex Hull analyzis</div>"
      ],
      "text/plain": [
       "<IPython.core.display.HTML object>"
      ]
     },
     "metadata": {},
     "output_type": "display_data"
    },
    {
     "name": "stdout",
     "output_type": "stream",
     "text": [
      "Found:\n",
      "  - 5 vertices\n",
      "  - 6 simplices\n",
      "\u001b[94mDuration : 00:00:00 008ms\u001b[0m\n"
     ]
    },
    {
     "data": {
      "text/html": [
       "<div style='text-align:center; font-family: sans; font-weight: bold; font-size:12px;background-color: #cbcbcb;color: b'>Find all points that lie in the given planes</div>"
      ],
      "text/plain": [
       "<IPython.core.display.HTML object>"
      ]
     },
     "metadata": {},
     "output_type": "display_data"
    },
    {
     "name": "stdout",
     "output_type": "stream",
     "text": [
      "0 atoms lie in the plane(s)\n",
      "\u001b[94mDuration : 00:00:00 004ms\u001b[0m\n"
     ]
    },
    {
     "data": {
      "text/html": [
       "<div style='text-align:center; font-family: sans; font-weight: bold; font-size:12px;background-color: #cbcbcb;color: b'>Generation of the coordinates of the tetrahedron</div>"
      ],
      "text/plain": [
       "<IPython.core.display.HTML object>"
      ]
     },
     "metadata": {},
     "output_type": "display_data"
    },
    {
     "name": "stdout",
     "output_type": "stream",
     "text": [
      "Total number of atoms = 35\n",
      "[]\n",
      "\u001b[94mDuration : 00:00:00 000ms\u001b[0m\n"
     ]
    },
    {
     "data": {
      "text/html": [
       "<div style='text-align:center; font-family: sans; font-weight: bold; font-size:12px;background-color: #cbcbcb;color: b'>Applying mirror reflection w.r.t. facet defined by atoms (0,1,2) </div>"
      ],
      "text/plain": [
       "<IPython.core.display.HTML object>"
      ]
     },
     "metadata": {},
     "output_type": "display_data"
    },
    {
     "name": "stdout",
     "output_type": "stream",
     "text": [
      "hkl solution: -1.00000 x + -1.00000 y + 1.00000 z + 4.07825 = 0\n",
      "Total number of atoms = 70\n",
      "\u001b[94mDuration : 00:00:00 032ms\u001b[0m\n"
     ]
    },
    {
     "data": {
      "text/html": [
       "<div style='text-align:center; font-family: sans; font-weight: bold; font-size:14px;background-color: #007a7a;color: #ffffff'>Moments of inertia</div>"
      ],
      "text/plain": [
       "<IPython.core.display.HTML object>"
      ]
     },
     "metadata": {},
     "output_type": "display_data"
    },
    {
     "name": "stdout",
     "output_type": "stream",
     "text": [
      "Moments of inertia = 183454.44 259893.80 259893.80 amu.Å2\n",
      "Moments of inertia / M = 13.31 18.85 18.85 amu.Å2\n",
      "Size of the ellipsoid = 1.63 1.94 1.94 nm\n"
     ]
    },
    {
     "data": {
      "text/html": [
       "<div style='text-align:center; font-family: sans; font-weight: bold; font-size:14px;background-color: #007a7a;color: #ffffff'>Core/Surface analyzis</div>"
      ],
      "text/plain": [
       "<IPython.core.display.HTML object>"
      ]
     },
     "metadata": {},
     "output_type": "display_data"
    },
    {
     "data": {
      "text/html": [
       "<div style='text-align:center; font-family: sans; font-weight: bold; font-size:12px;background-color: #cbcbcb;color: b'>Convex Hull analyzis</div>"
      ],
      "text/plain": [
       "<IPython.core.display.HTML object>"
      ]
     },
     "metadata": {},
     "output_type": "display_data"
    },
    {
     "name": "stdout",
     "output_type": "stream",
     "text": [
      "Found:\n",
      "  - 5 vertices\n",
      "  - 6 simplices\n",
      "\u001b[94mDuration : 00:00:00 004ms\u001b[0m\n"
     ]
    },
    {
     "data": {
      "text/html": [
       "<div style='text-align:center; font-family: sans; font-weight: bold; font-size:12px;background-color: #cbcbcb;color: b'>Find all points that lie in the given planes</div>"
      ],
      "text/plain": [
       "<IPython.core.display.HTML object>"
      ]
     },
     "metadata": {},
     "output_type": "display_data"
    },
    {
     "name": "stdout",
     "output_type": "stream",
     "text": [
      "0 atoms lie in the plane(s)\n",
      "\u001b[94mDuration : 00:00:00 008ms\u001b[0m\n"
     ]
    },
    {
     "data": {
      "text/html": [
       "<div style='text-align:center; font-family: sans; font-weight: bold; font-size:12px;background-color: #cbcbcb;color: b'>Generation of the coordinates of the tetrahedron</div>"
      ],
      "text/plain": [
       "<IPython.core.display.HTML object>"
      ]
     },
     "metadata": {},
     "output_type": "display_data"
    },
    {
     "name": "stdout",
     "output_type": "stream",
     "text": [
      "Total number of atoms = 35\n",
      "[]\n",
      "\u001b[94mDuration : 00:00:00 004ms\u001b[0m\n"
     ]
    },
    {
     "data": {
      "text/html": [
       "<div style='text-align:center; font-family: sans; font-weight: bold; font-size:12px;background-color: #cbcbcb;color: b'>Applying mirror reflection w.r.t. facet defined by atoms (0,1,2) </div>"
      ],
      "text/plain": [
       "<IPython.core.display.HTML object>"
      ]
     },
     "metadata": {},
     "output_type": "display_data"
    },
    {
     "name": "stdout",
     "output_type": "stream",
     "text": [
      "hkl solution: -1.00000 x + -1.00000 y + 1.00000 z + 3.54800 = 0\n",
      "Total number of atoms = 70\n",
      "\u001b[94mDuration : 00:00:00 036ms\u001b[0m\n"
     ]
    },
    {
     "data": {
      "text/html": [
       "<div style='text-align:center; font-family: sans; font-weight: bold; font-size:14px;background-color: #007a7a;color: #ffffff'>Moments of inertia</div>"
      ],
      "text/plain": [
       "<IPython.core.display.HTML object>"
      ]
     },
     "metadata": {},
     "output_type": "display_data"
    },
    {
     "name": "stdout",
     "output_type": "stream",
     "text": [
      "Moments of inertia = 41544.66 58854.94 58854.94 amu.Å2\n",
      "Moments of inertia / M = 10.07 14.27 14.27 amu.Å2\n",
      "Size of the ellipsoid = 1.42 1.69 1.69 nm\n"
     ]
    },
    {
     "data": {
      "text/html": [
       "<div style='text-align:center; font-family: sans; font-weight: bold; font-size:14px;background-color: #007a7a;color: #ffffff'>Core/Surface analyzis</div>"
      ],
      "text/plain": [
       "<IPython.core.display.HTML object>"
      ]
     },
     "metadata": {},
     "output_type": "display_data"
    },
    {
     "data": {
      "text/html": [
       "<div style='text-align:center; font-family: sans; font-weight: bold; font-size:12px;background-color: #cbcbcb;color: b'>Convex Hull analyzis</div>"
      ],
      "text/plain": [
       "<IPython.core.display.HTML object>"
      ]
     },
     "metadata": {},
     "output_type": "display_data"
    },
    {
     "name": "stdout",
     "output_type": "stream",
     "text": [
      "Found:\n",
      "  - 5 vertices\n",
      "  - 6 simplices\n",
      "\u001b[94mDuration : 00:00:00 004ms\u001b[0m\n"
     ]
    },
    {
     "data": {
      "text/html": [
       "<div style='text-align:center; font-family: sans; font-weight: bold; font-size:12px;background-color: #cbcbcb;color: b'>Find all points that lie in the given planes</div>"
      ],
      "text/plain": [
       "<IPython.core.display.HTML object>"
      ]
     },
     "metadata": {},
     "output_type": "display_data"
    },
    {
     "name": "stdout",
     "output_type": "stream",
     "text": [
      "0 atoms lie in the plane(s)\n",
      "\u001b[94mDuration : 00:00:00 008ms\u001b[0m\n"
     ]
    },
    {
     "data": {
      "text/html": [
       "<div style='text-align:center; font-family: sans; font-weight: bold; font-size:12px;background-color: #cbcbcb;color: b'>Generation of the coordinates of the tetrahedron</div>"
      ],
      "text/plain": [
       "<IPython.core.display.HTML object>"
      ]
     },
     "metadata": {},
     "output_type": "display_data"
    },
    {
     "name": "stdout",
     "output_type": "stream",
     "text": [
      "Total number of atoms = 35\n",
      "[]\n",
      "\u001b[94mDuration : 00:00:00 004ms\u001b[0m\n"
     ]
    },
    {
     "data": {
      "text/html": [
       "<div style='text-align:center; font-family: sans; font-weight: bold; font-size:12px;background-color: #cbcbcb;color: b'>Applying mirror reflection w.r.t. facet defined by atoms (0,1,2) </div>"
      ],
      "text/plain": [
       "<IPython.core.display.HTML object>"
      ]
     },
     "metadata": {},
     "output_type": "display_data"
    },
    {
     "name": "stdout",
     "output_type": "stream",
     "text": [
      "hkl solution: -1.00000 x + -1.00000 y + 1.00000 z + 3.68000 = 0\n",
      "Total number of atoms = 70\n",
      "\u001b[94mDuration : 00:00:00 032ms\u001b[0m\n"
     ]
    },
    {
     "data": {
      "text/html": [
       "<div style='text-align:center; font-family: sans; font-weight: bold; font-size:14px;background-color: #007a7a;color: #ffffff'>Moments of inertia</div>"
      ],
      "text/plain": [
       "<IPython.core.display.HTML object>"
      ]
     },
     "metadata": {},
     "output_type": "display_data"
    },
    {
     "name": "stdout",
     "output_type": "stream",
     "text": [
      "Moments of inertia = 39432.51 55862.72 55862.72 amu.Å2\n",
      "Moments of inertia / M = 10.83 15.35 15.35 amu.Å2\n",
      "Size of the ellipsoid = 1.47 1.75 1.75 nm\n"
     ]
    },
    {
     "data": {
      "text/html": [
       "<div style='text-align:center; font-family: sans; font-weight: bold; font-size:14px;background-color: #007a7a;color: #ffffff'>Core/Surface analyzis</div>"
      ],
      "text/plain": [
       "<IPython.core.display.HTML object>"
      ]
     },
     "metadata": {},
     "output_type": "display_data"
    },
    {
     "data": {
      "text/html": [
       "<div style='text-align:center; font-family: sans; font-weight: bold; font-size:12px;background-color: #cbcbcb;color: b'>Convex Hull analyzis</div>"
      ],
      "text/plain": [
       "<IPython.core.display.HTML object>"
      ]
     },
     "metadata": {},
     "output_type": "display_data"
    },
    {
     "name": "stdout",
     "output_type": "stream",
     "text": [
      "Found:\n",
      "  - 5 vertices\n",
      "  - 6 simplices\n",
      "\u001b[94mDuration : 00:00:00 004ms\u001b[0m\n"
     ]
    },
    {
     "data": {
      "text/html": [
       "<div style='text-align:center; font-family: sans; font-weight: bold; font-size:12px;background-color: #cbcbcb;color: b'>Find all points that lie in the given planes</div>"
      ],
      "text/plain": [
       "<IPython.core.display.HTML object>"
      ]
     },
     "metadata": {},
     "output_type": "display_data"
    },
    {
     "name": "stdout",
     "output_type": "stream",
     "text": [
      "0 atoms lie in the plane(s)\n",
      "\u001b[94mDuration : 00:00:00 008ms\u001b[0m\n"
     ]
    },
    {
     "data": {
      "text/html": [
       "<div style='text-align:center; font-family: sans; font-weight: bold; font-size:12px;background-color: #cbcbcb;color: b'>Generation of the coordinates of the tetrahedron</div>"
      ],
      "text/plain": [
       "<IPython.core.display.HTML object>"
      ]
     },
     "metadata": {},
     "output_type": "display_data"
    },
    {
     "name": "stdout",
     "output_type": "stream",
     "text": [
      "Total number of atoms = 35\n",
      "[]\n",
      "\u001b[94mDuration : 00:00:00 000ms\u001b[0m\n"
     ]
    },
    {
     "data": {
      "text/html": [
       "<div style='text-align:center; font-family: sans; font-weight: bold; font-size:12px;background-color: #cbcbcb;color: b'>Applying mirror reflection w.r.t. facet defined by atoms (0,1,2) </div>"
      ],
      "text/plain": [
       "<IPython.core.display.HTML object>"
      ]
     },
     "metadata": {},
     "output_type": "display_data"
    },
    {
     "name": "stdout",
     "output_type": "stream",
     "text": [
      "hkl solution: -1.00000 x + -1.00000 y + 1.00000 z + 3.60770 = 0\n",
      "Total number of atoms = 70\n",
      "\u001b[94mDuration : 00:00:00 026ms\u001b[0m\n"
     ]
    },
    {
     "data": {
      "text/html": [
       "<div style='text-align:center; font-family: sans; font-weight: bold; font-size:14px;background-color: #007a7a;color: #ffffff'>Moments of inertia</div>"
      ],
      "text/plain": [
       "<IPython.core.display.HTML object>"
      ]
     },
     "metadata": {},
     "output_type": "display_data"
    },
    {
     "name": "stdout",
     "output_type": "stream",
     "text": [
      "Moments of inertia = 46316.64 65615.24 65615.24 amu.Å2\n",
      "Moments of inertia / M = 10.41 14.75 14.75 amu.Å2\n",
      "Size of the ellipsoid = 1.44 1.72 1.72 nm\n"
     ]
    },
    {
     "data": {
      "text/html": [
       "<div style='text-align:center; font-family: sans; font-weight: bold; font-size:14px;background-color: #007a7a;color: #ffffff'>Core/Surface analyzis</div>"
      ],
      "text/plain": [
       "<IPython.core.display.HTML object>"
      ]
     },
     "metadata": {},
     "output_type": "display_data"
    },
    {
     "data": {
      "text/html": [
       "<div style='text-align:center; font-family: sans; font-weight: bold; font-size:12px;background-color: #cbcbcb;color: b'>Convex Hull analyzis</div>"
      ],
      "text/plain": [
       "<IPython.core.display.HTML object>"
      ]
     },
     "metadata": {},
     "output_type": "display_data"
    },
    {
     "name": "stdout",
     "output_type": "stream",
     "text": [
      "Found:\n",
      "  - 5 vertices\n",
      "  - 6 simplices\n",
      "\u001b[94mDuration : 00:00:00 008ms\u001b[0m\n"
     ]
    },
    {
     "data": {
      "text/html": [
       "<div style='text-align:center; font-family: sans; font-weight: bold; font-size:12px;background-color: #cbcbcb;color: b'>Find all points that lie in the given planes</div>"
      ],
      "text/plain": [
       "<IPython.core.display.HTML object>"
      ]
     },
     "metadata": {},
     "output_type": "display_data"
    },
    {
     "name": "stdout",
     "output_type": "stream",
     "text": [
      "0 atoms lie in the plane(s)\n",
      "\u001b[94mDuration : 00:00:00 008ms\u001b[0m\n"
     ]
    },
    {
     "data": {
      "text/html": [
       "<div style='text-align:center; font-family: sans; font-weight: bold; font-size:12px;background-color: #cbcbcb;color: b'>Generation of the coordinates of the tetrahedron</div>"
      ],
      "text/plain": [
       "<IPython.core.display.HTML object>"
      ]
     },
     "metadata": {},
     "output_type": "display_data"
    },
    {
     "name": "stdout",
     "output_type": "stream",
     "text": [
      "Total number of atoms = 35\n",
      "[]\n",
      "\u001b[94mDuration : 00:00:00 000ms\u001b[0m\n"
     ]
    },
    {
     "data": {
      "text/html": [
       "<div style='text-align:center; font-family: sans; font-weight: bold; font-size:12px;background-color: #cbcbcb;color: b'>Applying mirror reflection w.r.t. facet defined by atoms (0,1,2) </div>"
      ],
      "text/plain": [
       "<IPython.core.display.HTML object>"
      ]
     },
     "metadata": {},
     "output_type": "display_data"
    },
    {
     "name": "stdout",
     "output_type": "stream",
     "text": [
      "hkl solution: -1.00000 x + -1.00000 y + 1.00000 z + 4.08550 = 0\n",
      "Total number of atoms = 70\n",
      "\u001b[94mDuration : 00:00:00 031ms\u001b[0m\n"
     ]
    },
    {
     "data": {
      "text/html": [
       "<div style='text-align:center; font-family: sans; font-weight: bold; font-size:14px;background-color: #007a7a;color: #ffffff'>Moments of inertia</div>"
      ],
      "text/plain": [
       "<IPython.core.display.HTML object>"
      ]
     },
     "metadata": {},
     "output_type": "display_data"
    },
    {
     "name": "stdout",
     "output_type": "stream",
     "text": [
      "Moments of inertia = 100825.85 142836.62 142836.62 amu.Å2\n",
      "Moments of inertia / M = 13.35 18.92 18.92 amu.Å2\n",
      "Size of the ellipsoid = 1.63 1.95 1.95 nm\n"
     ]
    },
    {
     "data": {
      "text/html": [
       "<div style='text-align:center; font-family: sans; font-weight: bold; font-size:14px;background-color: #007a7a;color: #ffffff'>Core/Surface analyzis</div>"
      ],
      "text/plain": [
       "<IPython.core.display.HTML object>"
      ]
     },
     "metadata": {},
     "output_type": "display_data"
    },
    {
     "data": {
      "text/html": [
       "<div style='text-align:center; font-family: sans; font-weight: bold; font-size:12px;background-color: #cbcbcb;color: b'>Convex Hull analyzis</div>"
      ],
      "text/plain": [
       "<IPython.core.display.HTML object>"
      ]
     },
     "metadata": {},
     "output_type": "display_data"
    },
    {
     "name": "stdout",
     "output_type": "stream",
     "text": [
      "Found:\n",
      "  - 5 vertices\n",
      "  - 6 simplices\n",
      "\u001b[94mDuration : 00:00:00 008ms\u001b[0m\n"
     ]
    },
    {
     "data": {
      "text/html": [
       "<div style='text-align:center; font-family: sans; font-weight: bold; font-size:12px;background-color: #cbcbcb;color: b'>Find all points that lie in the given planes</div>"
      ],
      "text/plain": [
       "<IPython.core.display.HTML object>"
      ]
     },
     "metadata": {},
     "output_type": "display_data"
    },
    {
     "name": "stdout",
     "output_type": "stream",
     "text": [
      "0 atoms lie in the plane(s)\n",
      "\u001b[94mDuration : 00:00:00 004ms\u001b[0m\n"
     ]
    },
    {
     "data": {
      "text/html": [
       "<div style='text-align:center; font-family: sans; font-weight: bold; font-size:12px;background-color: #cbcbcb;color: b'>Generation of the coordinates of the tetrahedron</div>"
      ],
      "text/plain": [
       "<IPython.core.display.HTML object>"
      ]
     },
     "metadata": {},
     "output_type": "display_data"
    },
    {
     "name": "stdout",
     "output_type": "stream",
     "text": [
      "Total number of atoms = 35\n",
      "[]\n",
      "\u001b[94mDuration : 00:00:00 000ms\u001b[0m\n"
     ]
    },
    {
     "data": {
      "text/html": [
       "<div style='text-align:center; font-family: sans; font-weight: bold; font-size:12px;background-color: #cbcbcb;color: b'>Applying mirror reflection w.r.t. facet defined by atoms (0,1,2) </div>"
      ],
      "text/plain": [
       "<IPython.core.display.HTML object>"
      ]
     },
     "metadata": {},
     "output_type": "display_data"
    },
    {
     "name": "stdout",
     "output_type": "stream",
     "text": [
      "hkl solution: -1.00000 x + -1.00000 y + 1.00000 z + 4.03390 = 0\n",
      "Total number of atoms = 70\n",
      "\u001b[94mDuration : 00:00:00 024ms\u001b[0m\n"
     ]
    },
    {
     "data": {
      "text/html": [
       "<div style='text-align:center; font-family: sans; font-weight: bold; font-size:14px;background-color: #007a7a;color: #ffffff'>Moments of inertia</div>"
      ],
      "text/plain": [
       "<IPython.core.display.HTML object>"
      ]
     },
     "metadata": {},
     "output_type": "display_data"
    },
    {
     "name": "stdout",
     "output_type": "stream",
     "text": [
      "Moments of inertia = 24586.97 34831.54 34831.54 amu.Å2\n",
      "Moments of inertia / M = 13.02 18.44 18.44 amu.Å2\n",
      "Size of the ellipsoid = 1.61 1.92 1.92 nm\n"
     ]
    },
    {
     "data": {
      "text/html": [
       "<div style='text-align:center; font-family: sans; font-weight: bold; font-size:14px;background-color: #007a7a;color: #ffffff'>Core/Surface analyzis</div>"
      ],
      "text/plain": [
       "<IPython.core.display.HTML object>"
      ]
     },
     "metadata": {},
     "output_type": "display_data"
    },
    {
     "data": {
      "text/html": [
       "<div style='text-align:center; font-family: sans; font-weight: bold; font-size:12px;background-color: #cbcbcb;color: b'>Convex Hull analyzis</div>"
      ],
      "text/plain": [
       "<IPython.core.display.HTML object>"
      ]
     },
     "metadata": {},
     "output_type": "display_data"
    },
    {
     "name": "stdout",
     "output_type": "stream",
     "text": [
      "Found:\n",
      "  - 5 vertices\n",
      "  - 6 simplices\n",
      "\u001b[94mDuration : 00:00:00 004ms\u001b[0m\n"
     ]
    },
    {
     "data": {
      "text/html": [
       "<div style='text-align:center; font-family: sans; font-weight: bold; font-size:12px;background-color: #cbcbcb;color: b'>Find all points that lie in the given planes</div>"
      ],
      "text/plain": [
       "<IPython.core.display.HTML object>"
      ]
     },
     "metadata": {},
     "output_type": "display_data"
    },
    {
     "name": "stdout",
     "output_type": "stream",
     "text": [
      "0 atoms lie in the plane(s)\n",
      "\u001b[94mDuration : 00:00:00 004ms\u001b[0m\n"
     ]
    },
    {
     "data": {
      "text/html": [
       "<div style='text-align:center; font-family: sans; font-weight: bold; font-size:12px;background-color: #cbcbcb;color: b'>Generation of the coordinates of the tetrahedron</div>"
      ],
      "text/plain": [
       "<IPython.core.display.HTML object>"
      ]
     },
     "metadata": {},
     "output_type": "display_data"
    },
    {
     "name": "stdout",
     "output_type": "stream",
     "text": [
      "Total number of atoms = 35\n",
      "[]\n",
      "\u001b[94mDuration : 00:00:00 000ms\u001b[0m\n"
     ]
    },
    {
     "data": {
      "text/html": [
       "<div style='text-align:center; font-family: sans; font-weight: bold; font-size:12px;background-color: #cbcbcb;color: b'>Applying mirror reflection w.r.t. facet defined by atoms (0,1,2) </div>"
      ],
      "text/plain": [
       "<IPython.core.display.HTML object>"
      ]
     },
     "metadata": {},
     "output_type": "display_data"
    },
    {
     "name": "stdout",
     "output_type": "stream",
     "text": [
      "hkl solution: -1.00000 x + -1.00000 y + 1.00000 z + 4.07825 = 0\n",
      "Total number of atoms = 70\n",
      "\u001b[94mDuration : 00:00:00 028ms\u001b[0m\n"
     ]
    },
    {
     "data": {
      "text/html": [
       "<div style='text-align:center; font-family: sans; font-weight: bold; font-size:14px;background-color: #007a7a;color: #ffffff'>Moments of inertia</div>"
      ],
      "text/plain": [
       "<IPython.core.display.HTML object>"
      ]
     },
     "metadata": {},
     "output_type": "display_data"
    },
    {
     "name": "stdout",
     "output_type": "stream",
     "text": [
      "Moments of inertia = 183454.44 259893.80 259893.80 amu.Å2\n",
      "Moments of inertia / M = 13.31 18.85 18.85 amu.Å2\n",
      "Size of the ellipsoid = 1.63 1.94 1.94 nm\n"
     ]
    },
    {
     "data": {
      "text/html": [
       "<div style='text-align:center; font-family: sans; font-weight: bold; font-size:14px;background-color: #007a7a;color: #ffffff'>Core/Surface analyzis</div>"
      ],
      "text/plain": [
       "<IPython.core.display.HTML object>"
      ]
     },
     "metadata": {},
     "output_type": "display_data"
    },
    {
     "data": {
      "text/html": [
       "<div style='text-align:center; font-family: sans; font-weight: bold; font-size:12px;background-color: #cbcbcb;color: b'>Convex Hull analyzis</div>"
      ],
      "text/plain": [
       "<IPython.core.display.HTML object>"
      ]
     },
     "metadata": {},
     "output_type": "display_data"
    },
    {
     "name": "stdout",
     "output_type": "stream",
     "text": [
      "Found:\n",
      "  - 5 vertices\n",
      "  - 6 simplices\n",
      "\u001b[94mDuration : 00:00:00 004ms\u001b[0m\n"
     ]
    },
    {
     "data": {
      "text/html": [
       "<div style='text-align:center; font-family: sans; font-weight: bold; font-size:12px;background-color: #cbcbcb;color: b'>Find all points that lie in the given planes</div>"
      ],
      "text/plain": [
       "<IPython.core.display.HTML object>"
      ]
     },
     "metadata": {},
     "output_type": "display_data"
    },
    {
     "name": "stdout",
     "output_type": "stream",
     "text": [
      "0 atoms lie in the plane(s)\n",
      "\u001b[94mDuration : 00:00:00 008ms\u001b[0m\n"
     ]
    },
    {
     "data": {
      "text/html": [
       "<div style='text-align:center; font-family: sans; font-weight: bold; font-size:12px;background-color: #cbcbcb;color: b'>Generation of the coordinates of the tetrahedron</div>"
      ],
      "text/plain": [
       "<IPython.core.display.HTML object>"
      ]
     },
     "metadata": {},
     "output_type": "display_data"
    },
    {
     "name": "stdout",
     "output_type": "stream",
     "text": [
      "Total number of atoms = 35\n",
      "[]\n",
      "\u001b[94mDuration : 00:00:00 000ms\u001b[0m\n"
     ]
    },
    {
     "data": {
      "text/html": [
       "<div style='text-align:center; font-family: sans; font-weight: bold; font-size:12px;background-color: #cbcbcb;color: b'>Applying mirror reflection w.r.t. facet defined by atoms (0,1,2) </div>"
      ],
      "text/plain": [
       "<IPython.core.display.HTML object>"
      ]
     },
     "metadata": {},
     "output_type": "display_data"
    },
    {
     "name": "stdout",
     "output_type": "stream",
     "text": [
      "hkl solution: -1.00000 x + -1.00000 y + 1.00000 z + 3.54800 = 0\n",
      "Total number of atoms = 70\n",
      "\u001b[94mDuration : 00:00:00 024ms\u001b[0m\n"
     ]
    },
    {
     "data": {
      "text/html": [
       "<div style='text-align:center; font-family: sans; font-weight: bold; font-size:14px;background-color: #007a7a;color: #ffffff'>Moments of inertia</div>"
      ],
      "text/plain": [
       "<IPython.core.display.HTML object>"
      ]
     },
     "metadata": {},
     "output_type": "display_data"
    },
    {
     "name": "stdout",
     "output_type": "stream",
     "text": [
      "Moments of inertia = 41544.66 58854.94 58854.94 amu.Å2\n",
      "Moments of inertia / M = 10.07 14.27 14.27 amu.Å2\n",
      "Size of the ellipsoid = 1.42 1.69 1.69 nm\n"
     ]
    },
    {
     "data": {
      "text/html": [
       "<div style='text-align:center; font-family: sans; font-weight: bold; font-size:14px;background-color: #007a7a;color: #ffffff'>Core/Surface analyzis</div>"
      ],
      "text/plain": [
       "<IPython.core.display.HTML object>"
      ]
     },
     "metadata": {},
     "output_type": "display_data"
    },
    {
     "data": {
      "text/html": [
       "<div style='text-align:center; font-family: sans; font-weight: bold; font-size:12px;background-color: #cbcbcb;color: b'>Convex Hull analyzis</div>"
      ],
      "text/plain": [
       "<IPython.core.display.HTML object>"
      ]
     },
     "metadata": {},
     "output_type": "display_data"
    },
    {
     "name": "stdout",
     "output_type": "stream",
     "text": [
      "Found:\n",
      "  - 5 vertices\n",
      "  - 6 simplices\n",
      "\u001b[94mDuration : 00:00:00 008ms\u001b[0m\n"
     ]
    },
    {
     "data": {
      "text/html": [
       "<div style='text-align:center; font-family: sans; font-weight: bold; font-size:12px;background-color: #cbcbcb;color: b'>Find all points that lie in the given planes</div>"
      ],
      "text/plain": [
       "<IPython.core.display.HTML object>"
      ]
     },
     "metadata": {},
     "output_type": "display_data"
    },
    {
     "name": "stdout",
     "output_type": "stream",
     "text": [
      "0 atoms lie in the plane(s)\n",
      "\u001b[94mDuration : 00:00:00 004ms\u001b[0m\n"
     ]
    },
    {
     "data": {
      "text/html": [
       "<div style='text-align:center; font-family: sans; font-weight: bold; font-size:12px;background-color: #cbcbcb;color: b'>Generation of the coordinates of the tetrahedron</div>"
      ],
      "text/plain": [
       "<IPython.core.display.HTML object>"
      ]
     },
     "metadata": {},
     "output_type": "display_data"
    },
    {
     "name": "stdout",
     "output_type": "stream",
     "text": [
      "Total number of atoms = 35\n",
      "[]\n",
      "\u001b[94mDuration : 00:00:00 000ms\u001b[0m\n"
     ]
    },
    {
     "data": {
      "text/html": [
       "<div style='text-align:center; font-family: sans; font-weight: bold; font-size:12px;background-color: #cbcbcb;color: b'>Applying mirror reflection w.r.t. facet defined by atoms (0,1,2) </div>"
      ],
      "text/plain": [
       "<IPython.core.display.HTML object>"
      ]
     },
     "metadata": {},
     "output_type": "display_data"
    },
    {
     "name": "stdout",
     "output_type": "stream",
     "text": [
      "hkl solution: -1.00000 x + -1.00000 y + 1.00000 z + 3.68000 = 0\n",
      "Total number of atoms = 70\n",
      "\u001b[94mDuration : 00:00:01 689ms\u001b[0m\n"
     ]
    },
    {
     "data": {
      "text/html": [
       "<div style='text-align:center; font-family: sans; font-weight: bold; font-size:14px;background-color: #007a7a;color: #ffffff'>Moments of inertia</div>"
      ],
      "text/plain": [
       "<IPython.core.display.HTML object>"
      ]
     },
     "metadata": {},
     "output_type": "display_data"
    },
    {
     "name": "stdout",
     "output_type": "stream",
     "text": [
      "Moments of inertia = 39432.51 55862.72 55862.72 amu.Å2\n",
      "Moments of inertia / M = 10.83 15.35 15.35 amu.Å2\n",
      "Size of the ellipsoid = 1.47 1.75 1.75 nm\n"
     ]
    },
    {
     "data": {
      "text/html": [
       "<div style='text-align:center; font-family: sans; font-weight: bold; font-size:14px;background-color: #007a7a;color: #ffffff'>Core/Surface analyzis</div>"
      ],
      "text/plain": [
       "<IPython.core.display.HTML object>"
      ]
     },
     "metadata": {},
     "output_type": "display_data"
    },
    {
     "data": {
      "text/html": [
       "<div style='text-align:center; font-family: sans; font-weight: bold; font-size:12px;background-color: #cbcbcb;color: b'>Convex Hull analyzis</div>"
      ],
      "text/plain": [
       "<IPython.core.display.HTML object>"
      ]
     },
     "metadata": {},
     "output_type": "display_data"
    },
    {
     "name": "stdout",
     "output_type": "stream",
     "text": [
      "Found:\n",
      "  - 5 vertices\n",
      "  - 6 simplices\n",
      "\u001b[94mDuration : 00:00:00 004ms\u001b[0m\n"
     ]
    },
    {
     "data": {
      "text/html": [
       "<div style='text-align:center; font-family: sans; font-weight: bold; font-size:12px;background-color: #cbcbcb;color: b'>Find all points that lie in the given planes</div>"
      ],
      "text/plain": [
       "<IPython.core.display.HTML object>"
      ]
     },
     "metadata": {},
     "output_type": "display_data"
    },
    {
     "name": "stdout",
     "output_type": "stream",
     "text": [
      "0 atoms lie in the plane(s)\n",
      "\u001b[94mDuration : 00:00:00 008ms\u001b[0m\n"
     ]
    },
    {
     "data": {
      "text/html": [
       "<div style='text-align:center; font-family: sans; font-weight: bold; font-size:12px;background-color: #cbcbcb;color: b'>Generation of the coordinates of the tetrahedron</div>"
      ],
      "text/plain": [
       "<IPython.core.display.HTML object>"
      ]
     },
     "metadata": {},
     "output_type": "display_data"
    },
    {
     "name": "stdout",
     "output_type": "stream",
     "text": [
      "Total number of atoms = 35\n",
      "[]\n",
      "\u001b[94mDuration : 00:00:00 004ms\u001b[0m\n"
     ]
    },
    {
     "data": {
      "text/html": [
       "<div style='text-align:center; font-family: sans; font-weight: bold; font-size:12px;background-color: #cbcbcb;color: b'>Applying mirror reflection w.r.t. facet defined by atoms (0,1,2) </div>"
      ],
      "text/plain": [
       "<IPython.core.display.HTML object>"
      ]
     },
     "metadata": {},
     "output_type": "display_data"
    },
    {
     "name": "stdout",
     "output_type": "stream",
     "text": [
      "hkl solution: -1.00000 x + -1.00000 y + 1.00000 z + 3.60770 = 0\n",
      "Total number of atoms = 70\n",
      "\u001b[94mDuration : 00:00:00 028ms\u001b[0m\n"
     ]
    },
    {
     "data": {
      "text/html": [
       "<div style='text-align:center; font-family: sans; font-weight: bold; font-size:14px;background-color: #007a7a;color: #ffffff'>Moments of inertia</div>"
      ],
      "text/plain": [
       "<IPython.core.display.HTML object>"
      ]
     },
     "metadata": {},
     "output_type": "display_data"
    },
    {
     "name": "stdout",
     "output_type": "stream",
     "text": [
      "Moments of inertia = 46316.64 65615.24 65615.24 amu.Å2\n",
      "Moments of inertia / M = 10.41 14.75 14.75 amu.Å2\n",
      "Size of the ellipsoid = 1.44 1.72 1.72 nm\n"
     ]
    },
    {
     "data": {
      "text/html": [
       "<div style='text-align:center; font-family: sans; font-weight: bold; font-size:14px;background-color: #007a7a;color: #ffffff'>Core/Surface analyzis</div>"
      ],
      "text/plain": [
       "<IPython.core.display.HTML object>"
      ]
     },
     "metadata": {},
     "output_type": "display_data"
    },
    {
     "data": {
      "text/html": [
       "<div style='text-align:center; font-family: sans; font-weight: bold; font-size:12px;background-color: #cbcbcb;color: b'>Convex Hull analyzis</div>"
      ],
      "text/plain": [
       "<IPython.core.display.HTML object>"
      ]
     },
     "metadata": {},
     "output_type": "display_data"
    },
    {
     "name": "stdout",
     "output_type": "stream",
     "text": [
      "Found:\n",
      "  - 5 vertices\n",
      "  - 6 simplices\n",
      "\u001b[94mDuration : 00:00:00 004ms\u001b[0m\n"
     ]
    },
    {
     "data": {
      "text/html": [
       "<div style='text-align:center; font-family: sans; font-weight: bold; font-size:12px;background-color: #cbcbcb;color: b'>Find all points that lie in the given planes</div>"
      ],
      "text/plain": [
       "<IPython.core.display.HTML object>"
      ]
     },
     "metadata": {},
     "output_type": "display_data"
    },
    {
     "name": "stdout",
     "output_type": "stream",
     "text": [
      "0 atoms lie in the plane(s)\n",
      "\u001b[94mDuration : 00:00:00 004ms\u001b[0m\n",
      "CPU times: total: 1min 6s\n",
      "Wall time: 9.29 s\n"
     ]
    }
   ],
   "source": [
    "%time generation_fichier_pk_johnson(esd_list,forme,size,nbr_elem,List_qmax,List_qmin,List_qstep,List_biso,lieu_fich_xyz,fichier_intermediaire,fichier_sortie)"
   ]
  },
  {
   "cell_type": "markdown",
   "id": "ae8a65d3-92a8-433a-a58d-f01f214e1994",
   "metadata": {},
   "source": [
    "## IV) Affichage du Data frame creer"
   ]
  },
  {
   "cell_type": "markdown",
   "id": "2f22ade2-fd4b-483d-8c3f-878eef5f678d",
   "metadata": {},
   "source": [
    "**On lit le fichier pk que on a enregistré plus haut et on l affiche**"
   ]
  },
  {
   "cell_type": "code",
   "execution_count": 45,
   "id": "0dbfb4ef-8b7c-406f-9e46-f08f09fe3611",
   "metadata": {},
   "outputs": [
    {
     "data": {
      "text/html": [
       "<div>\n",
       "<style scoped>\n",
       "    .dataframe tbody tr th:only-of-type {\n",
       "        vertical-align: middle;\n",
       "    }\n",
       "\n",
       "    .dataframe tbody tr th {\n",
       "        vertical-align: top;\n",
       "    }\n",
       "\n",
       "    .dataframe thead th {\n",
       "        text-align: right;\n",
       "    }\n",
       "</style>\n",
       "<table border=\"1\" class=\"dataframe\">\n",
       "  <thead>\n",
       "    <tr style=\"text-align: right;\">\n",
       "      <th></th>\n",
       "      <th>Solid_class</th>\n",
       "      <th>Element</th>\n",
       "      <th>Shape</th>\n",
       "      <th>Distance</th>\n",
       "      <th>Size_parameters</th>\n",
       "      <th>Eq_Radius</th>\n",
       "      <th>moment_of_inertia</th>\n",
       "      <th>n_Atoms</th>\n",
       "      <th>polydispersity</th>\n",
       "      <th>qmin</th>\n",
       "      <th>qmax</th>\n",
       "      <th>qstep</th>\n",
       "      <th>b_iso</th>\n",
       "      <th>q</th>\n",
       "      <th>Intensities</th>\n",
       "    </tr>\n",
       "  </thead>\n",
       "  <tbody>\n",
       "    <tr>\n",
       "      <th>0</th>\n",
       "      <td>Johnson</td>\n",
       "      <td>Ag</td>\n",
       "      <td>pentagonal_bipyramid</td>\n",
       "      <td>2.888885</td>\n",
       "      <td>[4, 0, 0]</td>\n",
       "      <td>0</td>\n",
       "      <td>[252708.09, 252708.09, 381007.35]</td>\n",
       "      <td>105</td>\n",
       "      <td>[[4, 0, 0], [0.8, 0.8, 0.8]]</td>\n",
       "      <td>0.01</td>\n",
       "      <td>20</td>\n",
       "      <td>0.01</td>\n",
       "      <td>0.1</td>\n",
       "      <td>[0.01, 0.02, 0.03, 0.04, 0.05, 0.06, 0.07, 0.0...</td>\n",
       "      <td>[3026896.3369140625, 3014978.53125, 2995211.83...</td>\n",
       "    </tr>\n",
       "    <tr>\n",
       "      <th>1</th>\n",
       "      <td>Johnson</td>\n",
       "      <td>Al</td>\n",
       "      <td>pentagonal_bipyramid</td>\n",
       "      <td>2.852398</td>\n",
       "      <td>[4, 0, 0]</td>\n",
       "      <td>0</td>\n",
       "      <td>[61624.34, 61624.34, 92910.85]</td>\n",
       "      <td>105</td>\n",
       "      <td>[[4, 0, 0], [0.8, 0.8, 0.8]]</td>\n",
       "      <td>0.01</td>\n",
       "      <td>20</td>\n",
       "      <td>0.01</td>\n",
       "      <td>0.1</td>\n",
       "      <td>[0.01, 0.02, 0.03, 0.04, 0.05, 0.06, 0.07, 0.0...</td>\n",
       "      <td>[231524.3832397461, 230625.7362060547, 229135....</td>\n",
       "    </tr>\n",
       "    <tr>\n",
       "      <th>2</th>\n",
       "      <td>Johnson</td>\n",
       "      <td>Au</td>\n",
       "      <td>pentagonal_bipyramid</td>\n",
       "      <td>2.883758</td>\n",
       "      <td>[4, 0, 0]</td>\n",
       "      <td>0</td>\n",
       "      <td>[459806.91, 459806.91, 693249.71]</td>\n",
       "      <td>105</td>\n",
       "      <td>[[4, 0, 0], [0.8, 0.8, 0.8]]</td>\n",
       "      <td>0.01</td>\n",
       "      <td>20</td>\n",
       "      <td>0.01</td>\n",
       "      <td>0.1</td>\n",
       "      <td>[0.01, 0.02, 0.03, 0.04, 0.05, 0.06, 0.07, 0.0...</td>\n",
       "      <td>[8544725.14453125, 8511271.439453125, 8455795....</td>\n",
       "    </tr>\n",
       "    <tr>\n",
       "      <th>3</th>\n",
       "      <td>Johnson</td>\n",
       "      <td>Co</td>\n",
       "      <td>pentagonal_bipyramid</td>\n",
       "      <td>2.508815</td>\n",
       "      <td>[4, 0, 0]</td>\n",
       "      <td>0</td>\n",
       "      <td>[104126.79, 104126.79, 156991.7]</td>\n",
       "      <td>105</td>\n",
       "      <td>[[4, 0, 0], [0.8, 0.8, 0.8]]</td>\n",
       "      <td>0.01</td>\n",
       "      <td>20</td>\n",
       "      <td>0.01</td>\n",
       "      <td>0.1</td>\n",
       "      <td>[0.01, 0.02, 0.03, 0.04, 0.05, 0.06, 0.07, 0.0...</td>\n",
       "      <td>[998781.0786132812, 995796.5512695312, 990841....</td>\n",
       "    </tr>\n",
       "    <tr>\n",
       "      <th>4</th>\n",
       "      <td>Johnson</td>\n",
       "      <td>Cr</td>\n",
       "      <td>pentagonal_bipyramid</td>\n",
       "      <td>2.602153</td>\n",
       "      <td>[4, 0, 0]</td>\n",
       "      <td>0</td>\n",
       "      <td>[98832.94, 98832.94, 149010.17]</td>\n",
       "      <td>105</td>\n",
       "      <td>[[4, 0, 0], [0.8, 0.8, 0.8]]</td>\n",
       "      <td>0.01</td>\n",
       "      <td>20</td>\n",
       "      <td>0.01</td>\n",
       "      <td>0.1</td>\n",
       "      <td>[0.01, 0.02, 0.03, 0.04, 0.05, 0.06, 0.07, 0.0...</td>\n",
       "      <td>[789187.4831542969, 786648.5092773438, 782434....</td>\n",
       "    </tr>\n",
       "    <tr>\n",
       "      <th>5</th>\n",
       "      <td>Johnson</td>\n",
       "      <td>Cu</td>\n",
       "      <td>pentagonal_bipyramid</td>\n",
       "      <td>2.551029</td>\n",
       "      <td>[4, 0, 0]</td>\n",
       "      <td>0</td>\n",
       "      <td>[116087.2, 116087.2, 175024.38]</td>\n",
       "      <td>105</td>\n",
       "      <td>[[4, 0, 0], [0.8, 0.8, 0.8]]</td>\n",
       "      <td>0.01</td>\n",
       "      <td>20</td>\n",
       "      <td>0.01</td>\n",
       "      <td>0.1</td>\n",
       "      <td>[0.01, 0.02, 0.03, 0.04, 0.05, 0.06, 0.07, 0.0...</td>\n",
       "      <td>[1152077.0883789062, 1148530.3618164062, 11426...</td>\n",
       "    </tr>\n",
       "    <tr>\n",
       "      <th>6</th>\n",
       "      <td>Johnson</td>\n",
       "      <td>Ag</td>\n",
       "      <td>pentagonal_bipyramid</td>\n",
       "      <td>2.888885</td>\n",
       "      <td>[4, 2, 2]</td>\n",
       "      <td>0</td>\n",
       "      <td>[392134.81, 470264.48, 470264.48]</td>\n",
       "      <td>142</td>\n",
       "      <td>[[4, 2, 2], [0.8, 0.8, 0.8]]</td>\n",
       "      <td>0.01</td>\n",
       "      <td>20</td>\n",
       "      <td>0.01</td>\n",
       "      <td>0.1</td>\n",
       "      <td>[0.01, 0.02, 0.03, 0.04, 0.05, 0.06, 0.07, 0.0...</td>\n",
       "      <td>[5521538.7294921875, 5497399.8125, 5457370.802...</td>\n",
       "    </tr>\n",
       "    <tr>\n",
       "      <th>7</th>\n",
       "      <td>Johnson</td>\n",
       "      <td>Al</td>\n",
       "      <td>pentagonal_bipyramid</td>\n",
       "      <td>2.852398</td>\n",
       "      <td>[4, 2, 2]</td>\n",
       "      <td>0</td>\n",
       "      <td>[95624.35, 114676.72, 114676.73]</td>\n",
       "      <td>142</td>\n",
       "      <td>[[4, 2, 2], [0.8, 0.8, 0.8]]</td>\n",
       "      <td>0.01</td>\n",
       "      <td>20</td>\n",
       "      <td>0.01</td>\n",
       "      <td>0.1</td>\n",
       "      <td>[0.01, 0.02, 0.03, 0.04, 0.05, 0.06, 0.07, 0.0...</td>\n",
       "      <td>[422338.74993896484, 420520.6156616211, 417505...</td>\n",
       "    </tr>\n",
       "    <tr>\n",
       "      <th>8</th>\n",
       "      <td>Johnson</td>\n",
       "      <td>Au</td>\n",
       "      <td>pentagonal_bipyramid</td>\n",
       "      <td>2.883758</td>\n",
       "      <td>[4, 2, 2]</td>\n",
       "      <td>0</td>\n",
       "      <td>[713496.33, 855654.67, 855654.67]</td>\n",
       "      <td>142</td>\n",
       "      <td>[[4, 2, 2], [0.8, 0.8, 0.8]]</td>\n",
       "      <td>0.01</td>\n",
       "      <td>20</td>\n",
       "      <td>0.01</td>\n",
       "      <td>0.1</td>\n",
       "      <td>[0.01, 0.02, 0.03, 0.04, 0.05, 0.06, 0.07, 0.0...</td>\n",
       "      <td>[15586942.173828125, 15519170.845703125, 15406...</td>\n",
       "    </tr>\n",
       "    <tr>\n",
       "      <th>9</th>\n",
       "      <td>Johnson</td>\n",
       "      <td>Co</td>\n",
       "      <td>pentagonal_bipyramid</td>\n",
       "      <td>2.508815</td>\n",
       "      <td>[4, 2, 2]</td>\n",
       "      <td>0</td>\n",
       "      <td>[161576.7, 193769.54, 193769.54]</td>\n",
       "      <td>142</td>\n",
       "      <td>[[4, 2, 2], [0.8, 0.8, 0.8]]</td>\n",
       "      <td>0.01</td>\n",
       "      <td>20</td>\n",
       "      <td>0.01</td>\n",
       "      <td>0.1</td>\n",
       "      <td>[0.01, 0.02, 0.03, 0.04, 0.05, 0.06, 0.07, 0.0...</td>\n",
       "      <td>[1822000.1931152344, 1815958.3292236328, 18059...</td>\n",
       "    </tr>\n",
       "    <tr>\n",
       "      <th>10</th>\n",
       "      <td>Johnson</td>\n",
       "      <td>Cr</td>\n",
       "      <td>pentagonal_bipyramid</td>\n",
       "      <td>2.602153</td>\n",
       "      <td>[4, 2, 2]</td>\n",
       "      <td>0</td>\n",
       "      <td>[153362.06, 183918.21, 183918.21]</td>\n",
       "      <td>142</td>\n",
       "      <td>[[4, 2, 2], [0.8, 0.8, 0.8]]</td>\n",
       "      <td>0.01</td>\n",
       "      <td>20</td>\n",
       "      <td>0.01</td>\n",
       "      <td>0.1</td>\n",
       "      <td>[0.01, 0.02, 0.03, 0.04, 0.05, 0.06, 0.07, 0.0...</td>\n",
       "      <td>[1439642.5057373047, 1434503.4986572266, 14259...</td>\n",
       "    </tr>\n",
       "    <tr>\n",
       "      <th>11</th>\n",
       "      <td>Johnson</td>\n",
       "      <td>Cu</td>\n",
       "      <td>pentagonal_bipyramid</td>\n",
       "      <td>2.551029</td>\n",
       "      <td>[4, 2, 2]</td>\n",
       "      <td>0</td>\n",
       "      <td>[180136.03, 216026.67, 216026.67]</td>\n",
       "      <td>142</td>\n",
       "      <td>[[4, 2, 2], [0.8, 0.8, 0.8]]</td>\n",
       "      <td>0.01</td>\n",
       "      <td>20</td>\n",
       "      <td>0.01</td>\n",
       "      <td>0.1</td>\n",
       "      <td>[0.01, 0.02, 0.03, 0.04, 0.05, 0.06, 0.07, 0.0...</td>\n",
       "      <td>[2101638.4580078125, 2094456.3881835938, 20825...</td>\n",
       "    </tr>\n",
       "    <tr>\n",
       "      <th>12</th>\n",
       "      <td>Johnson</td>\n",
       "      <td>Ag</td>\n",
       "      <td>trigonal_bipyramid</td>\n",
       "      <td>2.888885</td>\n",
       "      <td>[4, 0, 0]</td>\n",
       "      <td>0</td>\n",
       "      <td>[100825.85, 142836.62, 142836.62]</td>\n",
       "      <td>0</td>\n",
       "      <td>[4, 0.8]</td>\n",
       "      <td>0.01</td>\n",
       "      <td>20</td>\n",
       "      <td>0.01</td>\n",
       "      <td>0.1</td>\n",
       "      <td>[0.01, 0.02, 0.03, 0.04, 0.05, 0.06, 0.07, 0.0...</td>\n",
       "      <td>[10786249.0, 10758359.0, 10712029.0, 10647490....</td>\n",
       "    </tr>\n",
       "    <tr>\n",
       "      <th>13</th>\n",
       "      <td>Johnson</td>\n",
       "      <td>Al</td>\n",
       "      <td>trigonal_bipyramid</td>\n",
       "      <td>2.852398</td>\n",
       "      <td>[4, 0, 0]</td>\n",
       "      <td>0</td>\n",
       "      <td>[24586.97, 34831.54, 34831.54]</td>\n",
       "      <td>0</td>\n",
       "      <td>[4, 0.8]</td>\n",
       "      <td>0.01</td>\n",
       "      <td>20</td>\n",
       "      <td>0.01</td>\n",
       "      <td>0.1</td>\n",
       "      <td>[0.01, 0.02, 0.03, 0.04, 0.05, 0.06, 0.07, 0.0...</td>\n",
       "      <td>[825020.4375, 822905.375, 819392.0, 814498.0, ...</td>\n",
       "    </tr>\n",
       "    <tr>\n",
       "      <th>14</th>\n",
       "      <td>Johnson</td>\n",
       "      <td>Au</td>\n",
       "      <td>trigonal_bipyramid</td>\n",
       "      <td>2.883758</td>\n",
       "      <td>[4, 0, 0]</td>\n",
       "      <td>0</td>\n",
       "      <td>[183454.44, 259893.8, 259893.8]</td>\n",
       "      <td>0</td>\n",
       "      <td>[4, 0.8]</td>\n",
       "      <td>0.01</td>\n",
       "      <td>20</td>\n",
       "      <td>0.01</td>\n",
       "      <td>0.1</td>\n",
       "      <td>[0.01, 0.02, 0.03, 0.04, 0.05, 0.06, 0.07, 0.0...</td>\n",
       "      <td>[30448810.0, 30370612.0, 30240734.0, 30059802....</td>\n",
       "    </tr>\n",
       "    <tr>\n",
       "      <th>15</th>\n",
       "      <td>Johnson</td>\n",
       "      <td>Co</td>\n",
       "      <td>trigonal_bipyramid</td>\n",
       "      <td>2.508815</td>\n",
       "      <td>[4, 0, 0]</td>\n",
       "      <td>0</td>\n",
       "      <td>[41544.66, 58854.94, 58854.94]</td>\n",
       "      <td>0</td>\n",
       "      <td>[4, 0.8]</td>\n",
       "      <td>0.01</td>\n",
       "      <td>20</td>\n",
       "      <td>0.01</td>\n",
       "      <td>0.1</td>\n",
       "      <td>[0.01, 0.02, 0.03, 0.04, 0.05, 0.06, 0.07, 0.0...</td>\n",
       "      <td>[3558728.75, 3551725.25, 3540082.0, 3523842.75...</td>\n",
       "    </tr>\n",
       "    <tr>\n",
       "      <th>16</th>\n",
       "      <td>Johnson</td>\n",
       "      <td>Cr</td>\n",
       "      <td>trigonal_bipyramid</td>\n",
       "      <td>2.602153</td>\n",
       "      <td>[4, 0, 0]</td>\n",
       "      <td>0</td>\n",
       "      <td>[39432.51, 55862.72, 55862.72]</td>\n",
       "      <td>0</td>\n",
       "      <td>[4, 0.8]</td>\n",
       "      <td>0.01</td>\n",
       "      <td>20</td>\n",
       "      <td>0.01</td>\n",
       "      <td>0.1</td>\n",
       "      <td>[0.01, 0.02, 0.03, 0.04, 0.05, 0.06, 0.07, 0.0...</td>\n",
       "      <td>[2812005.25, 2806043.0, 2796135.25, 2782321.0,...</td>\n",
       "    </tr>\n",
       "    <tr>\n",
       "      <th>17</th>\n",
       "      <td>Johnson</td>\n",
       "      <td>Cu</td>\n",
       "      <td>trigonal_bipyramid</td>\n",
       "      <td>2.551029</td>\n",
       "      <td>[4, 0, 0]</td>\n",
       "      <td>0</td>\n",
       "      <td>[46316.64, 65615.24, 65615.24]</td>\n",
       "      <td>0</td>\n",
       "      <td>[4, 0.8]</td>\n",
       "      <td>0.01</td>\n",
       "      <td>20</td>\n",
       "      <td>0.01</td>\n",
       "      <td>0.1</td>\n",
       "      <td>[0.01, 0.02, 0.03, 0.04, 0.05, 0.06, 0.07, 0.0...</td>\n",
       "      <td>[4104981.75, 4096673.75, 4082864.25, 4063605.7...</td>\n",
       "    </tr>\n",
       "    <tr>\n",
       "      <th>18</th>\n",
       "      <td>Johnson</td>\n",
       "      <td>Ag</td>\n",
       "      <td>trigonal_bipyramid</td>\n",
       "      <td>2.888885</td>\n",
       "      <td>[4, 2, 2]</td>\n",
       "      <td>0</td>\n",
       "      <td>[100825.85, 142836.62, 142836.62]</td>\n",
       "      <td>0</td>\n",
       "      <td>[4, 0.8]</td>\n",
       "      <td>0.01</td>\n",
       "      <td>20</td>\n",
       "      <td>0.01</td>\n",
       "      <td>0.1</td>\n",
       "      <td>[0.01, 0.02, 0.03, 0.04, 0.05, 0.06, 0.07, 0.0...</td>\n",
       "      <td>[10786249.0, 10758359.0, 10712029.0, 10647490....</td>\n",
       "    </tr>\n",
       "    <tr>\n",
       "      <th>19</th>\n",
       "      <td>Johnson</td>\n",
       "      <td>Al</td>\n",
       "      <td>trigonal_bipyramid</td>\n",
       "      <td>2.852398</td>\n",
       "      <td>[4, 2, 2]</td>\n",
       "      <td>0</td>\n",
       "      <td>[24586.97, 34831.54, 34831.54]</td>\n",
       "      <td>0</td>\n",
       "      <td>[4, 0.8]</td>\n",
       "      <td>0.01</td>\n",
       "      <td>20</td>\n",
       "      <td>0.01</td>\n",
       "      <td>0.1</td>\n",
       "      <td>[0.01, 0.02, 0.03, 0.04, 0.05, 0.06, 0.07, 0.0...</td>\n",
       "      <td>[825020.4375, 822905.375, 819392.0, 814498.0, ...</td>\n",
       "    </tr>\n",
       "    <tr>\n",
       "      <th>20</th>\n",
       "      <td>Johnson</td>\n",
       "      <td>Au</td>\n",
       "      <td>trigonal_bipyramid</td>\n",
       "      <td>2.883758</td>\n",
       "      <td>[4, 2, 2]</td>\n",
       "      <td>0</td>\n",
       "      <td>[183454.44, 259893.8, 259893.8]</td>\n",
       "      <td>0</td>\n",
       "      <td>[4, 0.8]</td>\n",
       "      <td>0.01</td>\n",
       "      <td>20</td>\n",
       "      <td>0.01</td>\n",
       "      <td>0.1</td>\n",
       "      <td>[0.01, 0.02, 0.03, 0.04, 0.05, 0.06, 0.07, 0.0...</td>\n",
       "      <td>[30448810.0, 30370612.0, 30240734.0, 30059802....</td>\n",
       "    </tr>\n",
       "    <tr>\n",
       "      <th>21</th>\n",
       "      <td>Johnson</td>\n",
       "      <td>Co</td>\n",
       "      <td>trigonal_bipyramid</td>\n",
       "      <td>2.508815</td>\n",
       "      <td>[4, 2, 2]</td>\n",
       "      <td>0</td>\n",
       "      <td>[41544.66, 58854.94, 58854.94]</td>\n",
       "      <td>0</td>\n",
       "      <td>[4, 0.8]</td>\n",
       "      <td>0.01</td>\n",
       "      <td>20</td>\n",
       "      <td>0.01</td>\n",
       "      <td>0.1</td>\n",
       "      <td>[0.01, 0.02, 0.03, 0.04, 0.05, 0.06, 0.07, 0.0...</td>\n",
       "      <td>[3558728.75, 3551725.25, 3540082.0, 3523842.75...</td>\n",
       "    </tr>\n",
       "    <tr>\n",
       "      <th>22</th>\n",
       "      <td>Johnson</td>\n",
       "      <td>Cr</td>\n",
       "      <td>trigonal_bipyramid</td>\n",
       "      <td>2.602153</td>\n",
       "      <td>[4, 2, 2]</td>\n",
       "      <td>0</td>\n",
       "      <td>[39432.51, 55862.72, 55862.72]</td>\n",
       "      <td>0</td>\n",
       "      <td>[4, 0.8]</td>\n",
       "      <td>0.01</td>\n",
       "      <td>20</td>\n",
       "      <td>0.01</td>\n",
       "      <td>0.1</td>\n",
       "      <td>[0.01, 0.02, 0.03, 0.04, 0.05, 0.06, 0.07, 0.0...</td>\n",
       "      <td>[2812005.25, 2806043.0, 2796135.25, 2782321.0,...</td>\n",
       "    </tr>\n",
       "    <tr>\n",
       "      <th>23</th>\n",
       "      <td>Johnson</td>\n",
       "      <td>Cu</td>\n",
       "      <td>trigonal_bipyramid</td>\n",
       "      <td>2.551029</td>\n",
       "      <td>[4, 2, 2]</td>\n",
       "      <td>0</td>\n",
       "      <td>[46316.64, 65615.24, 65615.24]</td>\n",
       "      <td>0</td>\n",
       "      <td>[4, 0.8]</td>\n",
       "      <td>0.01</td>\n",
       "      <td>20</td>\n",
       "      <td>0.01</td>\n",
       "      <td>0.1</td>\n",
       "      <td>[0.01, 0.02, 0.03, 0.04, 0.05, 0.06, 0.07, 0.0...</td>\n",
       "      <td>[4104981.75, 4096673.75, 4082864.25, 4063605.7...</td>\n",
       "    </tr>\n",
       "  </tbody>\n",
       "</table>\n",
       "</div>"
      ],
      "text/plain": [
       "   Solid_class Element                 Shape  Distance Size_parameters  \\\n",
       "0      Johnson      Ag  pentagonal_bipyramid  2.888885       [4, 0, 0]   \n",
       "1      Johnson      Al  pentagonal_bipyramid  2.852398       [4, 0, 0]   \n",
       "2      Johnson      Au  pentagonal_bipyramid  2.883758       [4, 0, 0]   \n",
       "3      Johnson      Co  pentagonal_bipyramid  2.508815       [4, 0, 0]   \n",
       "4      Johnson      Cr  pentagonal_bipyramid  2.602153       [4, 0, 0]   \n",
       "5      Johnson      Cu  pentagonal_bipyramid  2.551029       [4, 0, 0]   \n",
       "6      Johnson      Ag  pentagonal_bipyramid  2.888885       [4, 2, 2]   \n",
       "7      Johnson      Al  pentagonal_bipyramid  2.852398       [4, 2, 2]   \n",
       "8      Johnson      Au  pentagonal_bipyramid  2.883758       [4, 2, 2]   \n",
       "9      Johnson      Co  pentagonal_bipyramid  2.508815       [4, 2, 2]   \n",
       "10     Johnson      Cr  pentagonal_bipyramid  2.602153       [4, 2, 2]   \n",
       "11     Johnson      Cu  pentagonal_bipyramid  2.551029       [4, 2, 2]   \n",
       "12     Johnson      Ag    trigonal_bipyramid  2.888885       [4, 0, 0]   \n",
       "13     Johnson      Al    trigonal_bipyramid  2.852398       [4, 0, 0]   \n",
       "14     Johnson      Au    trigonal_bipyramid  2.883758       [4, 0, 0]   \n",
       "15     Johnson      Co    trigonal_bipyramid  2.508815       [4, 0, 0]   \n",
       "16     Johnson      Cr    trigonal_bipyramid  2.602153       [4, 0, 0]   \n",
       "17     Johnson      Cu    trigonal_bipyramid  2.551029       [4, 0, 0]   \n",
       "18     Johnson      Ag    trigonal_bipyramid  2.888885       [4, 2, 2]   \n",
       "19     Johnson      Al    trigonal_bipyramid  2.852398       [4, 2, 2]   \n",
       "20     Johnson      Au    trigonal_bipyramid  2.883758       [4, 2, 2]   \n",
       "21     Johnson      Co    trigonal_bipyramid  2.508815       [4, 2, 2]   \n",
       "22     Johnson      Cr    trigonal_bipyramid  2.602153       [4, 2, 2]   \n",
       "23     Johnson      Cu    trigonal_bipyramid  2.551029       [4, 2, 2]   \n",
       "\n",
       "   Eq_Radius                  moment_of_inertia n_Atoms  \\\n",
       "0          0  [252708.09, 252708.09, 381007.35]     105   \n",
       "1          0     [61624.34, 61624.34, 92910.85]     105   \n",
       "2          0  [459806.91, 459806.91, 693249.71]     105   \n",
       "3          0   [104126.79, 104126.79, 156991.7]     105   \n",
       "4          0    [98832.94, 98832.94, 149010.17]     105   \n",
       "5          0    [116087.2, 116087.2, 175024.38]     105   \n",
       "6          0  [392134.81, 470264.48, 470264.48]     142   \n",
       "7          0   [95624.35, 114676.72, 114676.73]     142   \n",
       "8          0  [713496.33, 855654.67, 855654.67]     142   \n",
       "9          0   [161576.7, 193769.54, 193769.54]     142   \n",
       "10         0  [153362.06, 183918.21, 183918.21]     142   \n",
       "11         0  [180136.03, 216026.67, 216026.67]     142   \n",
       "12         0  [100825.85, 142836.62, 142836.62]       0   \n",
       "13         0     [24586.97, 34831.54, 34831.54]       0   \n",
       "14         0    [183454.44, 259893.8, 259893.8]       0   \n",
       "15         0     [41544.66, 58854.94, 58854.94]       0   \n",
       "16         0     [39432.51, 55862.72, 55862.72]       0   \n",
       "17         0     [46316.64, 65615.24, 65615.24]       0   \n",
       "18         0  [100825.85, 142836.62, 142836.62]       0   \n",
       "19         0     [24586.97, 34831.54, 34831.54]       0   \n",
       "20         0    [183454.44, 259893.8, 259893.8]       0   \n",
       "21         0     [41544.66, 58854.94, 58854.94]       0   \n",
       "22         0     [39432.51, 55862.72, 55862.72]       0   \n",
       "23         0     [46316.64, 65615.24, 65615.24]       0   \n",
       "\n",
       "                  polydispersity  qmin qmax  qstep  b_iso  \\\n",
       "0   [[4, 0, 0], [0.8, 0.8, 0.8]]  0.01   20   0.01    0.1   \n",
       "1   [[4, 0, 0], [0.8, 0.8, 0.8]]  0.01   20   0.01    0.1   \n",
       "2   [[4, 0, 0], [0.8, 0.8, 0.8]]  0.01   20   0.01    0.1   \n",
       "3   [[4, 0, 0], [0.8, 0.8, 0.8]]  0.01   20   0.01    0.1   \n",
       "4   [[4, 0, 0], [0.8, 0.8, 0.8]]  0.01   20   0.01    0.1   \n",
       "5   [[4, 0, 0], [0.8, 0.8, 0.8]]  0.01   20   0.01    0.1   \n",
       "6   [[4, 2, 2], [0.8, 0.8, 0.8]]  0.01   20   0.01    0.1   \n",
       "7   [[4, 2, 2], [0.8, 0.8, 0.8]]  0.01   20   0.01    0.1   \n",
       "8   [[4, 2, 2], [0.8, 0.8, 0.8]]  0.01   20   0.01    0.1   \n",
       "9   [[4, 2, 2], [0.8, 0.8, 0.8]]  0.01   20   0.01    0.1   \n",
       "10  [[4, 2, 2], [0.8, 0.8, 0.8]]  0.01   20   0.01    0.1   \n",
       "11  [[4, 2, 2], [0.8, 0.8, 0.8]]  0.01   20   0.01    0.1   \n",
       "12                      [4, 0.8]  0.01   20   0.01    0.1   \n",
       "13                      [4, 0.8]  0.01   20   0.01    0.1   \n",
       "14                      [4, 0.8]  0.01   20   0.01    0.1   \n",
       "15                      [4, 0.8]  0.01   20   0.01    0.1   \n",
       "16                      [4, 0.8]  0.01   20   0.01    0.1   \n",
       "17                      [4, 0.8]  0.01   20   0.01    0.1   \n",
       "18                      [4, 0.8]  0.01   20   0.01    0.1   \n",
       "19                      [4, 0.8]  0.01   20   0.01    0.1   \n",
       "20                      [4, 0.8]  0.01   20   0.01    0.1   \n",
       "21                      [4, 0.8]  0.01   20   0.01    0.1   \n",
       "22                      [4, 0.8]  0.01   20   0.01    0.1   \n",
       "23                      [4, 0.8]  0.01   20   0.01    0.1   \n",
       "\n",
       "                                                    q  \\\n",
       "0   [0.01, 0.02, 0.03, 0.04, 0.05, 0.06, 0.07, 0.0...   \n",
       "1   [0.01, 0.02, 0.03, 0.04, 0.05, 0.06, 0.07, 0.0...   \n",
       "2   [0.01, 0.02, 0.03, 0.04, 0.05, 0.06, 0.07, 0.0...   \n",
       "3   [0.01, 0.02, 0.03, 0.04, 0.05, 0.06, 0.07, 0.0...   \n",
       "4   [0.01, 0.02, 0.03, 0.04, 0.05, 0.06, 0.07, 0.0...   \n",
       "5   [0.01, 0.02, 0.03, 0.04, 0.05, 0.06, 0.07, 0.0...   \n",
       "6   [0.01, 0.02, 0.03, 0.04, 0.05, 0.06, 0.07, 0.0...   \n",
       "7   [0.01, 0.02, 0.03, 0.04, 0.05, 0.06, 0.07, 0.0...   \n",
       "8   [0.01, 0.02, 0.03, 0.04, 0.05, 0.06, 0.07, 0.0...   \n",
       "9   [0.01, 0.02, 0.03, 0.04, 0.05, 0.06, 0.07, 0.0...   \n",
       "10  [0.01, 0.02, 0.03, 0.04, 0.05, 0.06, 0.07, 0.0...   \n",
       "11  [0.01, 0.02, 0.03, 0.04, 0.05, 0.06, 0.07, 0.0...   \n",
       "12  [0.01, 0.02, 0.03, 0.04, 0.05, 0.06, 0.07, 0.0...   \n",
       "13  [0.01, 0.02, 0.03, 0.04, 0.05, 0.06, 0.07, 0.0...   \n",
       "14  [0.01, 0.02, 0.03, 0.04, 0.05, 0.06, 0.07, 0.0...   \n",
       "15  [0.01, 0.02, 0.03, 0.04, 0.05, 0.06, 0.07, 0.0...   \n",
       "16  [0.01, 0.02, 0.03, 0.04, 0.05, 0.06, 0.07, 0.0...   \n",
       "17  [0.01, 0.02, 0.03, 0.04, 0.05, 0.06, 0.07, 0.0...   \n",
       "18  [0.01, 0.02, 0.03, 0.04, 0.05, 0.06, 0.07, 0.0...   \n",
       "19  [0.01, 0.02, 0.03, 0.04, 0.05, 0.06, 0.07, 0.0...   \n",
       "20  [0.01, 0.02, 0.03, 0.04, 0.05, 0.06, 0.07, 0.0...   \n",
       "21  [0.01, 0.02, 0.03, 0.04, 0.05, 0.06, 0.07, 0.0...   \n",
       "22  [0.01, 0.02, 0.03, 0.04, 0.05, 0.06, 0.07, 0.0...   \n",
       "23  [0.01, 0.02, 0.03, 0.04, 0.05, 0.06, 0.07, 0.0...   \n",
       "\n",
       "                                          Intensities  \n",
       "0   [3026896.3369140625, 3014978.53125, 2995211.83...  \n",
       "1   [231524.3832397461, 230625.7362060547, 229135....  \n",
       "2   [8544725.14453125, 8511271.439453125, 8455795....  \n",
       "3   [998781.0786132812, 995796.5512695312, 990841....  \n",
       "4   [789187.4831542969, 786648.5092773438, 782434....  \n",
       "5   [1152077.0883789062, 1148530.3618164062, 11426...  \n",
       "6   [5521538.7294921875, 5497399.8125, 5457370.802...  \n",
       "7   [422338.74993896484, 420520.6156616211, 417505...  \n",
       "8   [15586942.173828125, 15519170.845703125, 15406...  \n",
       "9   [1822000.1931152344, 1815958.3292236328, 18059...  \n",
       "10  [1439642.5057373047, 1434503.4986572266, 14259...  \n",
       "11  [2101638.4580078125, 2094456.3881835938, 20825...  \n",
       "12  [10786249.0, 10758359.0, 10712029.0, 10647490....  \n",
       "13  [825020.4375, 822905.375, 819392.0, 814498.0, ...  \n",
       "14  [30448810.0, 30370612.0, 30240734.0, 30059802....  \n",
       "15  [3558728.75, 3551725.25, 3540082.0, 3523842.75...  \n",
       "16  [2812005.25, 2806043.0, 2796135.25, 2782321.0,...  \n",
       "17  [4104981.75, 4096673.75, 4082864.25, 4063605.7...  \n",
       "18  [10786249.0, 10758359.0, 10712029.0, 10647490....  \n",
       "19  [825020.4375, 822905.375, 819392.0, 814498.0, ...  \n",
       "20  [30448810.0, 30370612.0, 30240734.0, 30059802....  \n",
       "21  [3558728.75, 3551725.25, 3540082.0, 3523842.75...  \n",
       "22  [2812005.25, 2806043.0, 2796135.25, 2782321.0,...  \n",
       "23  [4104981.75, 4096673.75, 4082864.25, 4063605.7...  "
      ]
     },
     "execution_count": 45,
     "metadata": {},
     "output_type": "execute_result"
    }
   ],
   "source": [
    "# On rentre la lecture du fichier dans la variable data\n",
    "data = pd.read_pickle(fichier_sortie)\n",
    "\n",
    "# On indexe la data frame comme il faut\n",
    "data.index=np.arange(data.shape[0])\n",
    "\n",
    "# On affiche le résultat final\n",
    "data.shape\n",
    "data"
   ]
  },
  {
   "cell_type": "markdown",
   "id": "ad188adf-970e-4e42-8850-e967e83cb677",
   "metadata": {},
   "source": [
    "## V) Vérification et analyse de nos données que l'on vient de creer"
   ]
  },
  {
   "cell_type": "markdown",
   "id": "695b5215-6357-4e15-90ee-9338228449c5",
   "metadata": {},
   "source": [
    "**Nous allons tracer les distribution des élements et des formes de notre data frame**\n",
    "\n",
    "**                  Remarque : si on veut une base de données cohérente, il faut le meme nombre de forme en tout et le meme nombre d'éléments par forme également**"
   ]
  },
  {
   "cell_type": "code",
   "execution_count": 46,
   "id": "cf026930-d0e9-450b-b3d1-2ccc9920ff88",
   "metadata": {},
   "outputs": [
    {
     "data": {
      "image/png": "[encoded data removed]",
      "text/plain": [
       "<Figure size 640x480 with 1 Axes>"
      ]
     },
     "metadata": {},
     "output_type": "display_data"
    },
    {
     "data": {
      "image/png": "[encoded data removed]",
      "text/plain": [
       "<Figure size 1500x600 with 1 Axes>"
      ]
     },
     "metadata": {},
     "output_type": "display_data"
    }
   ],
   "source": [
    "\n",
    "# On va creer un graph qui permet de forme la distribution des formes de notre data frame\n",
    "import matplotlib.pyplot as plt\n",
    "# Créer la figure et les axes\n",
    "fig, ax = plt.subplots()\n",
    "\n",
    "# Tracer l'histogramme\n",
    "ax.hist(data['Shape'], bins=9,edgecolor='black')\n",
    "\n",
    "# Ajouter des labels aux axes\n",
    "ax.set_xlabel('Shape')\n",
    "ax.set_ylabel('Frequency')\n",
    "\n",
    "# Personnaliser les intervalles de l'axe des x\n",
    "x_ticks = range(0, 6)  # Plage de 0 à 6\n",
    "plt.xticks(x_ticks)\n",
    "\n",
    "# Afficher la figure\n",
    "plt.show()\n",
    "#--------------------------------------------------------\n",
    "\n",
    "# On va creer un graph qui permet de forme la distribution des éléments de notre data frame\n",
    "\n",
    "import matplotlib.pyplot as plt\n",
    "# Créer la figure et les axes\n",
    "fig, ax = plt.subplots(figsize=(15,6))\n",
    "\n",
    "\n",
    "# Tracer l'histogramme\n",
    "ax.hist(data['Element'], bins=100,edgecolor='black')\n",
    "\n",
    "# Ajouter des labels aux axes\n",
    "ax.set_xlabel('Element')\n",
    "ax.set_ylabel('Frequency')\n",
    "\n",
    "\n",
    "# Personnaliser les intervalles de l'axe des x\n",
    "x_ticks = range(0, 19)  # Plage de 0 à 50\n",
    "plt.xticks(x_ticks)\n",
    "\n",
    "\n",
    "# Afficher la figure\n",
    "\n",
    "plt.show()"
   ]
  },
  {
   "cell_type": "code",
   "execution_count": null,
   "id": "c97c93e5-5db6-4fa5-9f60-0b4fb42b3105",
   "metadata": {},
   "outputs": [],
   "source": []
  }
 ],
 "metadata": {
  "kernelspec": {
   "display_name": "Python 3 (ipykernel)",
   "language": "python",
   "name": "python3"
  },
  "language_info": {
   "codemirror_mode": {
    "name": "ipython",
    "version": 3
   },
   "file_extension": ".py",
   "mimetype": "text/x-python",
   "name": "python",
   "nbconvert_exporter": "python",
   "pygments_lexer": "ipython3",
   "version": "3.11.9"
  }
 },
 "nbformat": 4,
 "nbformat_minor": 5
}
