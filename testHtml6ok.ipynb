{
 "cells": [
  {
   "cell_type": "markdown",
   "id": "bddf35b3-75e3-41c7-a4ae-498f36289bde",
   "metadata": {},
   "source": [
    "# Display Jmol figure in Jupyter notebook cell \n"
   ]
  },
  {
   "cell_type": "markdown",
   "id": "5b3f59f7-e051-49e8-9c23-c4b9daf57d52",
   "metadata": {},
   "source": [
    "- Imports"
   ]
  },
  {
   "cell_type": "code",
   "execution_count": 1,
   "id": "bdbc32aa-b370-4350-88ce-5270315c81fa",
   "metadata": {},
   "outputs": [],
   "source": [
    "# Importing HTML and IFrame from IPython.display for displaying HTML and iframes\n",
    "from IPython.display import HTML, IFrame\n",
    " # Importing os module for operating system functionalities\n",
    "import os \n",
    "# Importing (home made) local_server module\n",
    "import local_server  "
   ]
  },
  {
   "cell_type": "markdown",
   "id": "c7d8d3a6-1b23-4631-bb8a-e11601f648ed",
   "metadata": {},
   "source": [
    "- Run the server (do only 1 time!)"
   ]
  },
  {
   "cell_type": "code",
   "execution_count": 2,
   "id": "3015026e-5ffa-41aa-a875-68ebcaa358bb",
   "metadata": {},
   "outputs": [
    {
     "name": "stdout",
     "output_type": "stream",
     "text": [
      "Serving at port 8000\n"
     ]
    }
   ],
   "source": [
    "local_server.run_server()"
   ]
  },
  {
   "cell_type": "markdown",
   "id": "04a0e61e-af4b-450d-9edf-c8bd9a40111e",
   "metadata": {},
   "source": [
    "- Create html file in the root directory"
   ]
  },
  {
   "cell_type": "code",
   "execution_count": 3,
   "id": "111b692d-d9ff-4828-8c28-9bbdf2da3811",
   "metadata": {},
   "outputs": [],
   "source": [
    "\n",
    "def create_html_from_structure(path):\n",
    "    \"\"\"\n",
    "    Generate an HTML file to view the structure using JSmol (HTML5).\n",
    "\n",
    "    Args:\n",
    "        path (str): The path to the structure file (XYZ or PDB).\n",
    "    \"\"\"\n",
    "\n",
    "    # Extract the filename from the path using os.path.basename\n",
    "    filename = os.path.basename(path)\n",
    "\n",
    "    # Generate HTML content with dynamic filename\n",
    "    html_content = f\"\"\"\n",
    "        <!DOCTYPE html>\n",
    "        <html lang=\"fr\">\n",
    "        <head>\n",
    "            <meta charset=\"UTF-8\">\n",
    "            <title>XYZ Viewer</title>\n",
    "            <!-- Include JSmol scripts -->\n",
    "            <script src=\"jmol2/jsmol/JSmol.min.js\"></script>\n",
    "            <script src=\"jmol2/jsmol/js/Jmol2.js\"></script>\n",
    "            <script>jmolInitialize(\"jmol2/jsmol\");</script>\n",
    "        </head>\n",
    "        <body>\n",
    "        Affichage du fichier XYZ: {filename} <!-- Displaying the filename -->\n",
    "        <script>\n",
    "        jmolApplet(400, \"load {filename}\", \"0\"); // Loading the XYZ file dynamically using JSmol\n",
    "        </script>\n",
    "        </body>\n",
    "        </html>\n",
    "        \"\"\"\n",
    "\n",
    "    # Save the HTML content to a file named index.html\n",
    "    html_file_path = \"index.html\"\n",
    "    with open(html_file_path, \"w\", encoding=\"utf-8\") as html_file:\n",
    "        html_file.write(html_content)\n"
   ]
  },
  {
   "cell_type": "code",
   "execution_count": 4,
   "id": "8bf54ce2-0a8f-4dac-b523-c168c7998e8b",
   "metadata": {},
   "outputs": [],
   "source": [
    "create_html_from_structure(\"ico1.xyz\")"
   ]
  },
  {
   "cell_type": "code",
   "execution_count": 6,
   "id": "76b58d48-62b0-4471-ae99-5e7b15a71ac3",
   "metadata": {},
   "outputs": [
    {
     "data": {
      "text/html": [
       "\n",
       "        <iframe\n",
       "            width=\"100%\"\n",
       "            height=\"500\"\n",
       "            src=\"http://localhost:8000/index.html\"\n",
       "            frameborder=\"0\"\n",
       "            allowfullscreen\n",
       "            \n",
       "        ></iframe>\n",
       "        "
      ],
      "text/plain": [
       "<IPython.lib.display.IFrame at 0x2ee3ca96c10>"
      ]
     },
     "execution_count": 6,
     "metadata": {},
     "output_type": "execute_result"
    },
    {
     "name": "stderr",
     "output_type": "stream",
     "text": [
      "127.0.0.1 - - [15/Jun/2024 14:09:30] \"GET /index.html HTTP/1.1\" 304 -\n",
      "127.0.0.1 - - [15/Jun/2024 14:09:30] \"GET /jmol2/jsmol/JSmol.min.js HTTP/1.1\" 200 -\n",
      "127.0.0.1 - - [15/Jun/2024 14:09:30] \"GET /jmol2/jsmol/js/Jmol2.js HTTP/1.1\" 200 -\n",
      "127.0.0.1 - - [15/Jun/2024 14:09:30] \"GET /jmol2/jsmol/j2s/img/cursor_wait.gif HTTP/1.1\" 200 -\n",
      "127.0.0.1 - - [15/Jun/2024 14:09:30] \"GET /jmol2/jsmol/j2s/img/JSmol_spinner.gif HTTP/1.1\" 200 -\n",
      "127.0.0.1 - - [15/Jun/2024 14:09:30] \"GET /jmol2/jsmol/j2s/core/package.js HTTP/1.1\" 200 -\n",
      "127.0.0.1 - - [15/Jun/2024 14:09:30] \"GET /jmol2/jsmol/j2s/core/corejmol.z.js HTTP/1.1\" 200 -\n",
      "127.0.0.1 - - [15/Jun/2024 14:09:31] \"GET /jmol2/jsmol/j2s/J/translation/PO.js HTTP/1.1\" 200 -\n",
      "127.0.0.1 - - [15/Jun/2024 14:09:31] \"GET /jmol2/jsmol/j2s/core/corescript.z.js HTTP/1.1\" 200 -\n",
      "127.0.0.1 - - [15/Jun/2024 14:09:31] \"GET /jmol2/jsmol/j2s/J/translation/JmolApplet/fr.po HTTP/1.1\" 200 -\n",
      "127.0.0.1 - - [15/Jun/2024 14:09:31] \"GET /ico1.xyz HTTP/1.1\" 200 -\n"
     ]
    }
   ],
   "source": [
    "# Display the HTML file served by the local server\n",
    "IFrame(src=\"http://localhost:8000/index.html\", width='100%', height=500)"
   ]
  },
  {
   "cell_type": "code",
   "execution_count": null,
   "id": "7451dc1d-27f9-4a93-83c7-898a0671ed2f",
   "metadata": {},
   "outputs": [],
   "source": []
  }
 ],
 "metadata": {
  "kernelspec": {
   "display_name": "Python 3 (ipykernel)",
   "language": "python",
   "name": "python3"
  },
  "language_info": {
   "codemirror_mode": {
    "name": "ipython",
    "version": 3
   },
   "file_extension": ".py",
   "mimetype": "text/x-python",
   "name": "python",
   "nbconvert_exporter": "python",
   "pygments_lexer": "ipython3",
   "version": "3.8.12"
  }
 },
 "nbformat": 4,
 "nbformat_minor": 5
}
